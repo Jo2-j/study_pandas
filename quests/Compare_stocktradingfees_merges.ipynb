{
 "cells": [
  {
   "cell_type": "markdown",
   "metadata": {},
   "source": [
    "### MongoDB, pandas, numpy Connection"
   ]
  },
  {
   "cell_type": "code",
   "execution_count": null,
   "metadata": {},
   "outputs": [],
   "source": [
    "import pandas as pd\n",
    "import numpy as np\n",
    "from pymongo import MongoClient\n"
   ]
  },
  {
   "cell_type": "code",
   "execution_count": null,
   "metadata": {},
   "outputs": [],
   "source": [
    "\n",
    "client = MongoClient('mongodb://192.168.0.46:27017/')\n",
    "db_name = client['DB_SGMN']\n",
    "collection_name = db_name['COL_FEE_RATES']"
   ]
  },
  {
   "cell_type": "markdown",
   "metadata": {},
   "source": [
    "### Load Data"
   ]
  },
  {
   "cell_type": "code",
   "execution_count": null,
   "metadata": {},
   "outputs": [],
   "source": [
    "# 1. 변경후만 가져오기\n",
    "\n",
    "rawData = collection_name.find({\n",
    "    \"Unnamed: 4\": \"변경후\"\n",
    "})\n",
    "firstEdited = list(rawData)\n",
    "len(firstEdited)\n",
    "# print(len(firstEdited))\n",
    "# firstEdited[:5]"
   ]
  },
  {
   "cell_type": "code",
   "execution_count": null,
   "metadata": {},
   "outputs": [],
   "source": [
    "# 2. 평균 이상인 증권사\n",
    "# 2.0 허수 값을 제거하기 위해(전 데이터의 컬럼이 값으로 침투해 있기 때문에), 회사명 = 회사명이라는 행을 삭제 \n",
    "# 2.1 수수료의 합 구하기 (HTS + Online)\n",
    "# 2.2 평균 구하기\n",
    "# 2.3 평균 이상인 것만 가져오기\n",
    "df = pd.DataFrame(firstEdited)\n",
    "# df = df[df['증권사지점개설계좌.3'] != 'NaN']\n",
    "# df = df[df['증권사지점개설계좌.1'] != 'NaN']\n",
    "# df = df[~df[['HTS','스마트폰']].isna()]\n",
    "df = df.dropna(subset=['HTS', '스마트폰'])\n",
    "# df"
   ]
  },
  {
   "cell_type": "code",
   "execution_count": null,
   "metadata": {},
   "outputs": [],
   "source": [
    "df.shape"
   ]
  },
  {
   "cell_type": "code",
   "execution_count": null,
   "metadata": {},
   "outputs": [],
   "source": [
    "df['증권사 개설 계좌'] = df['HTS'] + df['스마트폰']\n",
    "\n",
    "df"
   ]
  },
  {
   "cell_type": "code",
   "execution_count": null,
   "metadata": {},
   "outputs": [],
   "source": [
    "secondEdited = df[['Unnamed: 0','Unnamed: 2','Unnamed: 3','증권사 개설 계좌']]\n",
    "secondEdited"
   ]
  },
  {
   "cell_type": "code",
   "execution_count": null,
   "metadata": {},
   "outputs": [],
   "source": [
    "secondEdited['증권사 개설 계좌'].mean()\n"
   ]
  },
  {
   "cell_type": "code",
   "execution_count": null,
   "metadata": {},
   "outputs": [],
   "source": [
    "thirdEdited = secondEdited[secondEdited['증권사 개설 계좌'] < secondEdited['증권사 개설 계좌'].mean()]\n",
    "thirdEdited"
   ]
  },
  {
   "cell_type": "code",
   "execution_count": null,
   "metadata": {},
   "outputs": [],
   "source": [
    "thirdEdited.to_csv('finalResult.csv')"
   ]
  }
 ],
 "metadata": {
  "kernelspec": {
   "display_name": "Python 3",
   "language": "python",
   "name": "python3"
  },
  "language_info": {
   "codemirror_mode": {
    "name": "ipython",
    "version": 3
   },
   "file_extension": ".py",
   "mimetype": "text/x-python",
   "name": "python",
   "nbconvert_exporter": "python",
   "pygments_lexer": "ipython3",
   "version": "3.11.11"
  }
 },
 "nbformat": 4,
 "nbformat_minor": 2
}
