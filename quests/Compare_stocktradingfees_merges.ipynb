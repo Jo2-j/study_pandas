{
 "cells": [
  {
   "cell_type": "markdown",
   "metadata": {},
   "source": [
    "### MongoDB, pandas, numpy Connection"
   ]
  },
  {
   "cell_type": "code",
   "execution_count": 159,
   "metadata": {},
   "outputs": [],
   "source": [
    "import pandas as pd\n",
    "import numpy as np\n",
    "from pymongo import MongoClient\n"
   ]
  },
  {
   "cell_type": "code",
   "execution_count": 160,
   "metadata": {},
   "outputs": [],
   "source": [
    "\n",
    "client = MongoClient('mongodb://192.168.0.46:27017/')\n",
    "db_name = client['DB_SGMN']\n",
    "collection_name = db_name['COL_FEE_RATES']"
   ]
  },
  {
   "cell_type": "markdown",
   "metadata": {},
   "source": [
    "### Load Data"
   ]
  },
  {
   "cell_type": "code",
   "execution_count": 161,
   "metadata": {},
   "outputs": [
    {
     "data": {
      "text/plain": [
       "0"
      ]
     },
     "execution_count": 161,
     "metadata": {},
     "output_type": "execute_result"
    }
   ],
   "source": [
    "# 1. 변경후만 가져오기\n",
    "\n",
    "rawData = collection_name.find({\n",
    "    \"Unamed:4\": \"변경후\"\n",
    "})\n",
    "firstEdited = list(rawData)\n",
    "len(firstEdited)\n",
    "# print(len(firstEdited))\n",
    "# firstEdited[:5]"
   ]
  },
  {
   "cell_type": "code",
   "execution_count": 162,
   "metadata": {},
   "outputs": [
    {
     "ename": "SyntaxError",
     "evalue": "'[' was never closed (1858517267.py, line 10)",
     "output_type": "error",
     "traceback": [
      "\u001b[0;36m  Cell \u001b[0;32mIn[162], line 10\u001b[0;36m\u001b[0m\n\u001b[0;31m    df = df[~df[['HTS'].isna()]\u001b[0m\n\u001b[0m           ^\u001b[0m\n\u001b[0;31mSyntaxError\u001b[0m\u001b[0;31m:\u001b[0m '[' was never closed\n"
     ]
    }
   ],
   "source": [
    "# 2. 평균 이상인 증권사\n",
    "# 2.0 허수 값을 제거하기 위해(전 데이터의 컬럼이 값으로 침투해 있기 때문에), 회사명 = 회사명이라는 행을 삭제 \n",
    "# 2.1 수수료의 합 구하기 (HTS + Online)\n",
    "# 2.2 평균 구하기\n",
    "# 2.3 평균 이상인 것만 가져오기\n",
    "\n",
    "df = pd.DataFrame(firstEdited)\n",
    "# df = df[df['증권사지점개설계좌.3'] != 'NaN']\n",
    "# df = df[df['증권사지점개설계좌.1'] != 'NaN']\n",
    "df = df[~df[['HTS'].isna()]\n",
    "df = df[~df['스마트폰'].isna()]\n",
    "# df\n"
   ]
  },
  {
   "cell_type": "code",
   "execution_count": null,
   "metadata": {},
   "outputs": [
    {
     "data": {
      "text/plain": [
       "(26, 21)"
      ]
     },
     "execution_count": 140,
     "metadata": {},
     "output_type": "execute_result"
    }
   ],
   "source": [
    "df.shape"
   ]
  },
  {
   "cell_type": "code",
   "execution_count": null,
   "metadata": {},
   "outputs": [],
   "source": [
    "df['증권사 개설 계좌'] = df['HTS'] + df['스마트폰']\n",
    "\n",
    "df"
   ]
  },
  {
   "cell_type": "code",
   "execution_count": null,
   "metadata": {},
   "outputs": [],
   "source": [
    "secondEdited = df[['회사명','기준일자','거래금액','증권사 개설 계좌']]\n",
    "secondEdited"
   ]
  },
  {
   "cell_type": "code",
   "execution_count": null,
   "metadata": {},
   "outputs": [],
   "source": [
    "thirdEdited = secondEdited['증권사 개설 계좌'].mean()\n",
    "thirdEdited\n"
   ]
  },
  {
   "cell_type": "code",
   "execution_count": null,
   "metadata": {},
   "outputs": [],
   "source": []
  }
 ],
 "metadata": {
  "kernelspec": {
   "display_name": "Python 3",
   "language": "python",
   "name": "python3"
  },
  "language_info": {
   "codemirror_mode": {
    "name": "ipython",
    "version": 3
   },
   "file_extension": ".py",
   "mimetype": "text/x-python",
   "name": "python",
   "nbconvert_exporter": "python",
   "pygments_lexer": "ipython3",
   "version": "3.11.11"
  }
 },
 "nbformat": 4,
 "nbformat_minor": 2
}
