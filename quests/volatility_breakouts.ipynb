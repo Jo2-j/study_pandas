{
 "cells": [
  {
   "cell_type": "markdown",
   "metadata": {},
   "source": [
    "목표가 설정\n",
    "아래 공식을 사용하여 목표가(Target)를 계산합니다.\n",
    "목표가 = 당일 시가 + (전일 변동폭 * K)\n",
    "변동폭 = 전일 고가 - 전일 저가"
   ]
  },
  {
   "cell_type": "code",
   "execution_count": 244,
   "metadata": {},
   "outputs": [],
   "source": [
    "from pykrx import stock\n",
    "import numpy as np\n",
    "import pandas as pd\n",
    "import matplotlib.pyplot as plt"
   ]
  },
  {
   "cell_type": "code",
   "execution_count": 245,
   "metadata": {},
   "outputs": [],
   "source": [
    "kodexInverseX2 = stock.get_market_ohlcv_by_date(\"20000101\", \"20250101\", \"500072\")\n",
    "kodex150X2 = stock.get_market_ohlcv_by_date(\"20000101\", \"20250101\", \"233740\")\n",
    "# kodex150X2 233740\n"
   ]
  },
  {
   "cell_type": "code",
   "execution_count": 246,
   "metadata": {},
   "outputs": [],
   "source": [
    "# kodexInverseX2"
   ]
  },
  {
   "cell_type": "code",
   "execution_count": 247,
   "metadata": {},
   "outputs": [],
   "source": [
    "# 변동폭 만들기\n",
    "\n",
    "kodex150X2['변동폭'] = kodex150X2['고가'] - kodex150X2['저가']\n",
    "kodexInverseX2['변동폭'] = kodexInverseX2['고가'] - kodexInverseX2['저가']\n",
    "# kodex150X2.columns"
   ]
  },
  {
   "cell_type": "code",
   "execution_count": 248,
   "metadata": {},
   "outputs": [],
   "source": [
    "# 전일 변동폭 만들기\n",
    "\n",
    "kodex150X2['전일 변동폭'] = kodex150X2['변동폭'].shift(periods=1)\n",
    "kodexInverseX2['전일 변동폭'] = kodexInverseX2['변동폭'].shift(periods=1)\n",
    "# kodexInverseX2[['전일 변동폭']]"
   ]
  },
  {
   "cell_type": "code",
   "execution_count": 249,
   "metadata": {},
   "outputs": [],
   "source": [
    "kodex150X2['목표가'] = kodex150X2['시가'] + (kodex150X2['전일 변동폭'] * 0.2)\n",
    "# kodex150X2.head(10)\n",
    "kodexInverseX2['목표가'] = kodexInverseX2['시가'] + (kodexInverseX2['전일 변동폭'] * 0.2)\n",
    "# kodexInverseX2.head(10)\n"
   ]
  },
  {
   "cell_type": "code",
   "execution_count": 250,
   "metadata": {},
   "outputs": [
    {
     "data": {
      "text/plain": [
       "날짜\n",
       "2022-10-17         NaN\n",
       "2022-10-18    0.978911\n",
       "2022-10-19    1.009595\n",
       "2022-10-20    1.015644\n",
       "2022-10-21    0.982680\n",
       "                ...   \n",
       "2024-12-20    1.035587\n",
       "2024-12-23    0.978035\n",
       "2024-12-24    0.986346\n",
       "2024-12-26    1.021851\n",
       "2024-12-27    1.010440\n",
       "Length: 542, dtype: float64"
      ]
     },
     "execution_count": 250,
     "metadata": {},
     "output_type": "execute_result"
    }
   ],
   "source": [
    "kodex150X2['종가'] / kodex150X2['목표가']\n",
    "kodexInverseX2['종가'] / kodexInverseX2['목표가']"
   ]
  },
  {
   "cell_type": "code",
   "execution_count": 251,
   "metadata": {},
   "outputs": [],
   "source": [
    "kodex150X2Conditions = kodex150X2['고가'] >= kodex150X2['목표가'] # 매도 조건\n",
    "kodex150X2['수익률'] = np.where(kodex150X2Conditions, kodex150X2['종가'] / kodex150X2['목표가'] , 1)\n",
    "kodex150X2['누적수익률'] = kodex150X2['수익률'].cumprod()\n",
    "\n",
    "# KodexInverseX2\n",
    "kodexInverseX2Conditions = kodexInverseX2['고가'] >= kodexInverseX2['목표가'] # 매도 조건\n",
    "kodexInverseX2['수익률'] = np.where(kodexInverseX2Conditions, kodexInverseX2['종가'] / kodexInverseX2['목표가'] , 1)\n",
    "kodexInverseX2['누적수익률'] = kodexInverseX2['수익률'].cumprod()\n",
    "\n",
    "# kodexInverseX2['누적수익률'].plot(figsize=(10,5))\n",
    "\n"
   ]
  },
  {
   "cell_type": "code",
   "execution_count": 252,
   "metadata": {},
   "outputs": [
    {
     "data": {
      "text/plain": [
       "33.04758086656967"
      ]
     },
     "execution_count": 252,
     "metadata": {},
     "output_type": "execute_result"
    }
   ],
   "source": [
    "delta_days = kodex150X2.index[-1] - kodex150X2.index[0]\n",
    "delta_days.days\n",
    "year = delta_days.days / 365\n",
    "\n",
    "cagr = (kodex150X2['누적수익률'].iloc[-1] ** (1 / year)) - 1\n",
    "cagr*100\n",
    "\n",
    "\n",
    "# plt.figure(figsize=(10, 6))\n",
    "\n",
    "# # 변동성 돌파 전략\n",
    "# plt.plot(kodex150X2['누적수익률'], label='Strategy')\n",
    "\n",
    "# # 단순 보유\n",
    "# plt.plot(kodex150X2['종가'] / kodex150X2['종가'].iloc[0], label='Hold')\n",
    "\n",
    "\n",
    "# plt.grid()\n",
    "# plt.legend()\n",
    "# plt.show()"
   ]
  },
  {
   "cell_type": "code",
   "execution_count": 253,
   "metadata": {},
   "outputs": [
    {
     "data": {
      "text/plain": [
       "70.13343231461755"
      ]
     },
     "execution_count": 253,
     "metadata": {},
     "output_type": "execute_result"
    }
   ],
   "source": [
    "delta_days = kodexInverseX2.index[-1] - kodexInverseX2.index[0]\n",
    "delta_days.days\n",
    "year = delta_days.days / 365\n",
    "\n",
    "cagr = (kodexInverseX2['누적수익률'].iloc[-1] ** (1 / year)) - 1\n",
    "cagr*100\n",
    "\n",
    "# plt.figure(figsize=(10, 6))\n",
    "\n",
    "# # 변동성 돌파 전략\n",
    "# plt.plot(kodexInverseX2['누적수익률'], label='Strategy')\n",
    "\n",
    "# # 단순 보유\n",
    "# plt.plot(kodexInverseX2['종가'] / kodexInverseX2['종가'].iloc[0], label='Hold')\n",
    "\n",
    "\n",
    "# plt.grid()\n",
    "# plt.legend()\n",
    "# plt.show()"
   ]
  },
  {
   "cell_type": "code",
   "execution_count": 254,
   "metadata": {},
   "outputs": [],
   "source": [
    "# 0.7 150x2 20\n",
    "# 0.7 inversex2 6\n",
    "\n",
    "\n",
    "# 0.5 150x2 28\n",
    "# 0.5 inversex2 12\n",
    "\n",
    "\n",
    "# 0.3 150x2 33\n",
    "# 0.3 inversex2 13\n",
    "\n",
    "# 결론 0.3 하자~"
   ]
  }
 ],
 "metadata": {
  "kernelspec": {
   "display_name": "Python 3",
   "language": "python",
   "name": "python3"
  },
  "language_info": {
   "codemirror_mode": {
    "name": "ipython",
    "version": 3
   },
   "file_extension": ".py",
   "mimetype": "text/x-python",
   "name": "python",
   "nbconvert_exporter": "python",
   "pygments_lexer": "ipython3",
   "version": "3.11.11"
  }
 },
 "nbformat": 4,
 "nbformat_minor": 2
}
