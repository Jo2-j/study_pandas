{
 "cells": [
  {
   "cell_type": "markdown",
   "metadata": {},
   "source": [
    "목표가 설정\n",
    "아래 공식을 사용하여 목표가(Target)를 계산합니다.\n",
    "목표가 = 당일 시가 + (전일 변동폭 * K)\n",
    "변동폭 = 전일 고가 - 전일 저가"
   ]
  },
  {
   "cell_type": "code",
   "execution_count": 80,
   "metadata": {},
   "outputs": [],
   "source": [
    "from pykrx import stock\n",
    "import numpy as np\n",
    "import pandas as pd\n",
    "import matplotlib.pyplot as plt"
   ]
  },
  {
   "cell_type": "code",
   "execution_count": 81,
   "metadata": {},
   "outputs": [
    {
     "data": {
      "text/html": [
       "<div>\n",
       "<style scoped>\n",
       "    .dataframe tbody tr th:only-of-type {\n",
       "        vertical-align: middle;\n",
       "    }\n",
       "\n",
       "    .dataframe tbody tr th {\n",
       "        vertical-align: top;\n",
       "    }\n",
       "\n",
       "    .dataframe thead th {\n",
       "        text-align: right;\n",
       "    }\n",
       "</style>\n",
       "<table border=\"1\" class=\"dataframe\">\n",
       "  <thead>\n",
       "    <tr style=\"text-align: right;\">\n",
       "      <th></th>\n",
       "      <th>시가</th>\n",
       "      <th>고가</th>\n",
       "      <th>저가</th>\n",
       "      <th>종가</th>\n",
       "      <th>거래량</th>\n",
       "      <th>등락률</th>\n",
       "    </tr>\n",
       "    <tr>\n",
       "      <th>날짜</th>\n",
       "      <th></th>\n",
       "      <th></th>\n",
       "      <th></th>\n",
       "      <th></th>\n",
       "      <th></th>\n",
       "      <th></th>\n",
       "    </tr>\n",
       "  </thead>\n",
       "  <tbody>\n",
       "    <tr>\n",
       "      <th>2015-12-17</th>\n",
       "      <td>10240</td>\n",
       "      <td>10405</td>\n",
       "      <td>9970</td>\n",
       "      <td>10330</td>\n",
       "      <td>946156</td>\n",
       "      <td>NaN</td>\n",
       "    </tr>\n",
       "    <tr>\n",
       "      <th>2015-12-18</th>\n",
       "      <td>10230</td>\n",
       "      <td>10710</td>\n",
       "      <td>10165</td>\n",
       "      <td>10710</td>\n",
       "      <td>1841150</td>\n",
       "      <td>3.678606</td>\n",
       "    </tr>\n",
       "    <tr>\n",
       "      <th>2015-12-21</th>\n",
       "      <td>10695</td>\n",
       "      <td>10825</td>\n",
       "      <td>10670</td>\n",
       "      <td>10720</td>\n",
       "      <td>1274858</td>\n",
       "      <td>0.093371</td>\n",
       "    </tr>\n",
       "    <tr>\n",
       "      <th>2015-12-22</th>\n",
       "      <td>10740</td>\n",
       "      <td>10750</td>\n",
       "      <td>10450</td>\n",
       "      <td>10495</td>\n",
       "      <td>1374974</td>\n",
       "      <td>-2.098881</td>\n",
       "    </tr>\n",
       "    <tr>\n",
       "      <th>2015-12-23</th>\n",
       "      <td>10535</td>\n",
       "      <td>10635</td>\n",
       "      <td>10415</td>\n",
       "      <td>10425</td>\n",
       "      <td>2532341</td>\n",
       "      <td>-0.666984</td>\n",
       "    </tr>\n",
       "    <tr>\n",
       "      <th>...</th>\n",
       "      <td>...</td>\n",
       "      <td>...</td>\n",
       "      <td>...</td>\n",
       "      <td>...</td>\n",
       "      <td>...</td>\n",
       "      <td>...</td>\n",
       "    </tr>\n",
       "    <tr>\n",
       "      <th>2024-12-20</th>\n",
       "      <td>6600</td>\n",
       "      <td>6675</td>\n",
       "      <td>6285</td>\n",
       "      <td>6345</td>\n",
       "      <td>38264071</td>\n",
       "      <td>-4.586466</td>\n",
       "    </tr>\n",
       "    <tr>\n",
       "      <th>2024-12-23</th>\n",
       "      <td>6500</td>\n",
       "      <td>6690</td>\n",
       "      <td>6360</td>\n",
       "      <td>6535</td>\n",
       "      <td>35383038</td>\n",
       "      <td>2.994484</td>\n",
       "    </tr>\n",
       "    <tr>\n",
       "      <th>2024-12-24</th>\n",
       "      <td>6610</td>\n",
       "      <td>6665</td>\n",
       "      <td>6510</td>\n",
       "      <td>6610</td>\n",
       "      <td>27817021</td>\n",
       "      <td>1.147666</td>\n",
       "    </tr>\n",
       "    <tr>\n",
       "      <th>2024-12-26</th>\n",
       "      <td>6730</td>\n",
       "      <td>6730</td>\n",
       "      <td>6510</td>\n",
       "      <td>6565</td>\n",
       "      <td>28834437</td>\n",
       "      <td>-0.680787</td>\n",
       "    </tr>\n",
       "    <tr>\n",
       "      <th>2024-12-27</th>\n",
       "      <td>6545</td>\n",
       "      <td>6640</td>\n",
       "      <td>6310</td>\n",
       "      <td>6435</td>\n",
       "      <td>38560641</td>\n",
       "      <td>-1.980198</td>\n",
       "    </tr>\n",
       "  </tbody>\n",
       "</table>\n",
       "<p>2218 rows × 6 columns</p>\n",
       "</div>"
      ],
      "text/plain": [
       "               시가     고가     저가     종가       거래량       등락률\n",
       "날짜                                                        \n",
       "2015-12-17  10240  10405   9970  10330    946156       NaN\n",
       "2015-12-18  10230  10710  10165  10710   1841150  3.678606\n",
       "2015-12-21  10695  10825  10670  10720   1274858  0.093371\n",
       "2015-12-22  10740  10750  10450  10495   1374974 -2.098881\n",
       "2015-12-23  10535  10635  10415  10425   2532341 -0.666984\n",
       "...           ...    ...    ...    ...       ...       ...\n",
       "2024-12-20   6600   6675   6285   6345  38264071 -4.586466\n",
       "2024-12-23   6500   6690   6360   6535  35383038  2.994484\n",
       "2024-12-24   6610   6665   6510   6610  27817021  1.147666\n",
       "2024-12-26   6730   6730   6510   6565  28834437 -0.680787\n",
       "2024-12-27   6545   6640   6310   6435  38560641 -1.980198\n",
       "\n",
       "[2218 rows x 6 columns]"
      ]
     },
     "execution_count": 81,
     "metadata": {},
     "output_type": "execute_result"
    }
   ],
   "source": [
    "kodexInverseX2 = stock.get_market_ohlcv_by_date(\"20000101\", \"20250101\", \"252670\")\n",
    "kodex150X2 = stock.get_market_ohlcv_by_date(\"20000101\", \"20250101\", \"233740\")\n",
    "kodex150X2\n"
   ]
  },
  {
   "cell_type": "code",
   "execution_count": 82,
   "metadata": {},
   "outputs": [],
   "source": [
    "# kodexInverseX2"
   ]
  },
  {
   "cell_type": "code",
   "execution_count": 83,
   "metadata": {},
   "outputs": [],
   "source": [
    "# 변동폭 만들기\n",
    "\n",
    "kodex150X2['변동폭'] = kodex150X2['고가'] - kodex150X2['저가']\n",
    "kodexInverseX2['변동폭'] = kodexInverseX2['고가'] - kodexInverseX2['저가']\n",
    "# kodex150X2.columns"
   ]
  },
  {
   "cell_type": "code",
   "execution_count": 84,
   "metadata": {},
   "outputs": [],
   "source": [
    "# 전일 변동폭 만들기\n",
    "\n",
    "kodex150X2['전일 변동폭'] = kodex150X2['변동폭'].shift(periods=1)\n",
    "kodexInverseX2['전일 변동폭'] = kodexInverseX2['변동폭'].shift(periods=1)\n",
    "# kodexInverseX2[['전일 변동폭']]"
   ]
  },
  {
   "cell_type": "code",
   "execution_count": 85,
   "metadata": {},
   "outputs": [],
   "source": [
    "kodex150X2['목표가'] = kodex150X2['시가'] + (kodex150X2['전일 변동폭'] * 0.7)\n",
    "# kodex150X2.head(10)\n",
    "kodexInverseX2['목표가'] = kodexInverseX2['시가'] + (kodexInverseX2['전일 변동폭'] * 0.7)\n",
    "# kodexInverseX2.head(10)\n"
   ]
  },
  {
   "cell_type": "code",
   "execution_count": 86,
   "metadata": {},
   "outputs": [
    {
     "data": {
      "text/plain": [
       "날짜\n",
       "2016-09-22         NaN\n",
       "2016-09-23    0.997714\n",
       "2016-09-26    0.997525\n",
       "2016-09-27    0.965090\n",
       "2016-09-28    0.980549\n",
       "                ...   \n",
       "2024-12-20    1.000575\n",
       "2024-12-23    0.960807\n",
       "2024-12-24    0.982648\n",
       "2024-12-26    1.001969\n",
       "2024-12-27    0.989032\n",
       "Length: 2033, dtype: float64"
      ]
     },
     "execution_count": 86,
     "metadata": {},
     "output_type": "execute_result"
    }
   ],
   "source": [
    "kodex150X2['종가'] / kodex150X2['목표가']\n",
    "kodexInverseX2['종가'] / kodexInverseX2['목표가']"
   ]
  },
  {
   "cell_type": "code",
   "execution_count": 87,
   "metadata": {},
   "outputs": [],
   "source": [
    "kodex150X2Conditions = kodex150X2['고가'] >= kodex150X2['목표가'] # 매도 조건\n",
    "kodex150X2['수익률'] = np.where(kodex150X2Conditions, kodex150X2['종가'] / kodex150X2['목표가'] , 1)\n",
    "kodex150X2['누적수익률'] = kodex150X2['수익률'].cumprod()\n",
    "\n",
    "# KodexInverseX2\n",
    "kodexInverseX2Conditions = kodexInverseX2['고가'] >= kodexInverseX2['목표가'] # 매도 조건\n",
    "kodexInverseX2['수익률'] = np.where(kodexInverseX2Conditions, kodexInverseX2['종가'] / kodexInverseX2['목표가'] , 1)\n",
    "kodexInverseX2['누적수익률'] = kodexInverseX2['수익률'].cumprod()\n",
    "\n",
    "# kodexInverseX2['누적수익률'].plot(figsize=(10,5))\n",
    "\n"
   ]
  },
  {
   "cell_type": "code",
   "execution_count": 88,
   "metadata": {},
   "outputs": [
    {
     "data": {
      "text/plain": [
       "20.265418739314867"
      ]
     },
     "execution_count": 88,
     "metadata": {},
     "output_type": "execute_result"
    }
   ],
   "source": [
    "delta_days = kodex150X2.index[-1] - kodex150X2.index[0]\n",
    "delta_days.days\n",
    "year = delta_days.days / 365\n",
    "\n",
    "cagr = (kodex150X2['누적수익률'].iloc[-1] ** (1 / year)) - 1\n",
    "cagr*100\n",
    "\n",
    "\n",
    "# plt.figure(figsize=(10, 6))\n",
    "\n",
    "# # 변동성 돌파 전략\n",
    "# plt.plot(kodex150X2['누적수익률'], label='Strategy')\n",
    "\n",
    "# # 단순 보유\n",
    "# plt.plot(kodex150X2['종가'] / kodex150X2['종가'].iloc[0], label='Hold')\n",
    "\n",
    "\n",
    "# plt.grid()\n",
    "# plt.legend()\n",
    "# plt.show()"
   ]
  },
  {
   "cell_type": "code",
   "execution_count": 89,
   "metadata": {},
   "outputs": [
    {
     "data": {
      "text/plain": [
       "6.827548306190101"
      ]
     },
     "execution_count": 89,
     "metadata": {},
     "output_type": "execute_result"
    }
   ],
   "source": [
    "delta_days = kodexInverseX2.index[-1] - kodexInverseX2.index[0]\n",
    "delta_days.days\n",
    "year = delta_days.days / 365\n",
    "\n",
    "cagr = (kodexInverseX2['누적수익률'].iloc[-1] ** (1 / year)) - 1\n",
    "cagr*100\n",
    "\n",
    "# plt.figure(figsize=(10, 6))\n",
    "\n",
    "# # 변동성 돌파 전략\n",
    "# plt.plot(kodexInverseX2['누적수익률'], label='Strategy')\n",
    "\n",
    "# # 단순 보유\n",
    "# plt.plot(kodexInverseX2['종가'] / kodexInverseX2['종가'].iloc[0], label='Hold')\n",
    "\n",
    "\n",
    "# plt.grid()\n",
    "# plt.legend()\n",
    "# plt.show()"
   ]
  },
  {
   "cell_type": "code",
   "execution_count": null,
   "metadata": {},
   "outputs": [],
   "source": [
    "# 0.7 150x2 20\n",
    "# 0.7 inversex2 6\n",
    "\n",
    "\n",
    "# 0.5 150x2 28\n",
    "# 0.5 inversex2 12\n",
    "\n",
    "\n",
    "# 0.3 150x2 33\n",
    "# 0.3 inversex2 13\n",
    "\n",
    "# 결론 0.3 하자~"
   ]
  }
 ],
 "metadata": {
  "kernelspec": {
   "display_name": "Python 3",
   "language": "python",
   "name": "python3"
  },
  "language_info": {
   "codemirror_mode": {
    "name": "ipython",
    "version": 3
   },
   "file_extension": ".py",
   "mimetype": "text/x-python",
   "name": "python",
   "nbconvert_exporter": "python",
   "pygments_lexer": "ipython3",
   "version": "3.11.11"
  }
 },
 "nbformat": 4,
 "nbformat_minor": 2
}
