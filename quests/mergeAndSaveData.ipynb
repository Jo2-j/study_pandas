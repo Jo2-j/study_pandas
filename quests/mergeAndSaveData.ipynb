{
 "cells": [
  {
   "cell_type": "code",
   "execution_count": null,
   "metadata": {},
   "outputs": [],
   "source": [
    "import pandas as pd\n",
    "import numpy as np"
   ]
  },
  {
   "cell_type": "code",
   "execution_count": null,
   "metadata": {},
   "outputs": [],
   "source": [
    "#1. 불러오기\n",
    "\n",
    "'''zeroToFifth = pd.read_excel(io=['../datasets/0.xlsx', '../datasets/1.xlsx',\n",
    "                             '../datasets/2.xlsx', \n",
    "                             '../datasets/3.xlsx', \n",
    "                             '../datasets/4.xlsx', \n",
    "                            '../datasets/5.xlsx'])\n",
    "zeroToFifth'''\n",
    "\n",
    "# 방법 1\n",
    "dfs = [pd.read_excel(f'../datasets/{i}.xlsx', header=2) for i in range(6)]\n",
    "zeroToFifth = pd.concat(dfs, axis=0)\n",
    "\n",
    "'''import glob\n",
    "\n",
    "# 방법 2\n",
    "excel_files = glob.glob('../datasets/[0-5].xlsx')\n",
    "dfs = [pd.read_excel(f) for f in excel_files]\n",
    "zeroToFifth = pd.concat(dfs, axis=0)\n",
    "zeroToFifth'''\n",
    "\n"
   ]
  },
  {
   "cell_type": "code",
   "execution_count": null,
   "metadata": {},
   "outputs": [],
   "source": [
    "type(dfs), type(dfs[0])"
   ]
  },
  {
   "cell_type": "code",
   "execution_count": null,
   "metadata": {},
   "outputs": [],
   "source": [
    "dfs[0]"
   ]
  },
  {
   "cell_type": "code",
   "execution_count": null,
   "metadata": {},
   "outputs": [],
   "source": [
    "dfs[1]"
   ]
  },
  {
   "cell_type": "markdown",
   "metadata": {},
   "source": [
    "### Save Data"
   ]
  },
  {
   "cell_type": "code",
   "execution_count": null,
   "metadata": {},
   "outputs": [],
   "source": [
    "from pymongo import MongoClient"
   ]
  },
  {
   "cell_type": "code",
   "execution_count": null,
   "metadata": {},
   "outputs": [],
   "source": [
    "# 1. 몽고\n",
    "\n",
    "\n",
    "client = MongoClient('mongodb://192.168.0.46:27017/')\n",
    "db_name = client['DB_SGMN']\n",
    "collection_name = db_name['COL_FEE_RATES']\n",
    "data_insert = zeroToFifth.to_dict(orient=\"records\")\n",
    "collection_name.insert_many(data_insert)"
   ]
  }
 ],
 "metadata": {
  "kernelspec": {
   "display_name": "Python 3",
   "language": "python",
   "name": "python3"
  },
  "language_info": {
   "codemirror_mode": {
    "name": "ipython",
    "version": 3
   },
   "file_extension": ".py",
   "mimetype": "text/x-python",
   "name": "python",
   "nbconvert_exporter": "python",
   "pygments_lexer": "ipython3",
   "version": "3.11.11"
  }
 },
 "nbformat": 4,
 "nbformat_minor": 2
}
