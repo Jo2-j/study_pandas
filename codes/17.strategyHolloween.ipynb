{
 "cells": [
  {
   "cell_type": "markdown",
   "metadata": {},
   "source": [
    "## 주기성 투자 전략\n",
    "- 월, 분기, 년 단위 변화 이용"
   ]
  },
  {
   "cell_type": "markdown",
   "metadata": {},
   "source": [
    "### 할로윈 투자"
   ]
  },
  {
   "cell_type": "markdown",
   "metadata": {},
   "source": [
    "- 매수는 11월, 매도는 4월"
   ]
  },
  {
   "cell_type": "code",
   "execution_count": null,
   "metadata": {},
   "outputs": [],
   "source": [
    "import pandas as pd\n",
    "# API 사용\n",
    "import FinanceDataReader as fdr\n",
    "symbol_snp = fdr.DataReader('S&P500', '2001', '20231231')\n",
    "symbol_snp.tail()\n"
   ]
  },
  {
   "cell_type": "code",
   "execution_count": null,
   "metadata": {},
   "outputs": [],
   "source": [
    "symbol_snp.info(), symbol_snp.index"
   ]
  },
  {
   "cell_type": "markdown",
   "metadata": {},
   "source": [
    "### 수익률 백테스팅 비교\n",
    "- CAGR Vs. 단순보유수익률"
   ]
  },
  {
   "cell_type": "code",
   "execution_count": null,
   "metadata": {},
   "outputs": [],
   "source": [
    "# symbol_snp.loc['2001-11'] # DataFrame\n",
    "# symbol_snp.loc['2001-11'].iloc[0] # Series\n",
    "buy_price = symbol_snp.loc['2001-11'].iloc[0].loc['Open'] # Value\n",
    "sell_price = symbol_snp.loc['2002-04'].iloc[-1].loc['Close'] # Value\n",
    "\n",
    "buy_price, sell_price\n",
    " "
   ]
  },
  {
   "cell_type": "code",
   "execution_count": 11,
   "metadata": {},
   "outputs": [],
   "source": [
    "rateOfReturn = sell_price / buy_price\n",
    "cumRateOfReturn = 1 * rateOfReturn\n"
   ]
  },
  {
   "cell_type": "code",
   "execution_count": 12,
   "metadata": {},
   "outputs": [],
   "source": [
    "ranges = 1\n",
    "CAGR = (cumRateOfReturn ** (1/ranges)) - 1 * 100\n"
   ]
  },
  {
   "cell_type": "code",
   "execution_count": null,
   "metadata": {},
   "outputs": [],
   "source": [
    "# 무개념 단순 수익률\n",
    "simpleRateOfReturn = symbol_snp.iloc[-1].loc['Close'] / symbol_snp.iloc[0].loc['Close']\n",
    "simpleCAGR = (simpleRateOfReturn ** (1/ranges)) - 1 * 100"
   ]
  }
 ],
 "metadata": {
  "kernelspec": {
   "display_name": "Python 3",
   "language": "python",
   "name": "python3"
  },
  "language_info": {
   "codemirror_mode": {
    "name": "ipython",
    "version": 3
   },
   "file_extension": ".py",
   "mimetype": "text/x-python",
   "name": "python",
   "nbconvert_exporter": "python",
   "pygments_lexer": "ipython3",
   "version": "3.11.11"
  }
 },
 "nbformat": 4,
 "nbformat_minor": 2
}
