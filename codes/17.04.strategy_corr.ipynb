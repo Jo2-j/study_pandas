{
 "cells": [
  {
   "cell_type": "markdown",
   "metadata": {},
   "source": [
    "## 상관관계\n",
    "- 두 변수간 관계성 강도 측정 통계지표\n",
    "- -1< 0 < 1 (기준은 0.5)\n",
    "- 1: 완전히 상관\n",
    "- 0: 완전히 상관x\n",
    "- -1: 완전히 반대"
   ]
  },
  {
   "cell_type": "markdown",
   "metadata": {},
   "source": [
    "### 간단한 예제"
   ]
  },
  {
   "cell_type": "code",
   "execution_count": null,
   "metadata": {},
   "outputs": [],
   "source": [
    "import pandas as pd\n",
    "# 두 변수 데이터 (예: 주식 A와 주식 B의 일간 수익률) \n",
    "data = { 'Stock_A': [0.02, 0.01, -0.01, 0.03, -0.02], \n",
    "'Stock_B': [0.01, 0.03, -0.02, 0.04, -0.01] }\n",
    "\n",
    "dfdata = pd.DataFrame(data)\n",
    "dfdata.info()\n"
   ]
  },
  {
   "cell_type": "code",
   "execution_count": null,
   "metadata": {},
   "outputs": [],
   "source": [
    "dfdata.corr()"
   ]
  },
  {
   "cell_type": "code",
   "execution_count": null,
   "metadata": {},
   "outputs": [],
   "source": [
    "import matplotlib.pyplot as plt\n",
    "\n",
    "plt.scatter(dfdata['Stock_A'], dfdata['Stock_B'])\n",
    "plt.xlabel('Stock A')\n",
    "plt.ylabel('Stock B')\n",
    "plt.show()"
   ]
  },
  {
   "cell_type": "code",
   "execution_count": 94,
   "metadata": {},
   "outputs": [],
   "source": [
    "# 개별 종목 데이터: 국내외 심볼 혼합 \n",
    "stocks = { \n",
    "    'S&P500': 'S&P500 (US)', \n",
    "    'AAPL': 'Apple (US)', \n",
    "    'MSFT': 'Microsoft (US)', \n",
    "    '005930': 'Samsung (KR)',\n",
    "    '000660': 'SK Hynix (KR)'}\n",
    "\n",
    "\n"
   ]
  },
  {
   "cell_type": "code",
   "execution_count": 95,
   "metadata": {},
   "outputs": [],
   "source": [
    "import FinanceDataReader as fdr"
   ]
  },
  {
   "cell_type": "code",
   "execution_count": 96,
   "metadata": {},
   "outputs": [],
   "source": [
    "start_day = '2023'\n",
    "\n",
    "sp500 = fdr.DataReader('S&P500', start_day)\n",
    "apple = fdr.DataReader('AAPL', start_day)\n",
    "microsoft = fdr.DataReader('MSFT', start_day)\n",
    "samsung = fdr.DataReader('005930', start_day)\n",
    "skhynix = fdr.DataReader('000660', start_day)"
   ]
  },
  {
   "cell_type": "code",
   "execution_count": null,
   "metadata": {},
   "outputs": [],
   "source": [
    "sp500.info()"
   ]
  },
  {
   "cell_type": "code",
   "execution_count": null,
   "metadata": {},
   "outputs": [],
   "source": [
    "samsung.info()"
   ]
  },
  {
   "cell_type": "code",
   "execution_count": 99,
   "metadata": {},
   "outputs": [],
   "source": [
    "# sp500[['Close']]\n",
    "sp500Close = sp500[['Close']].rename(columns={'Close': 'SP500'})\n",
    "appleClose = apple[['Close']].rename(columns={'Close': 'AAPL'})\n",
    "microsoftClose = microsoft[['Close']].rename(columns={'Close': 'MSFT'})\n",
    "samsungClose = samsung[['Close']].rename(columns={'Close': 'SAMSUNG'})\n",
    "skhynixClose = skhynix[['Close']].rename(columns={'Close': 'SKHYNIX'})\n"
   ]
  },
  {
   "cell_type": "code",
   "execution_count": null,
   "metadata": {},
   "outputs": [],
   "source": [
    "sp500Close"
   ]
  },
  {
   "cell_type": "code",
   "execution_count": null,
   "metadata": {},
   "outputs": [],
   "source": [
    "skhynixClose"
   ]
  },
  {
   "cell_type": "code",
   "execution_count": null,
   "metadata": {},
   "outputs": [],
   "source": [
    "df_corr = pd.concat([sp500Close, appleClose, microsoftClose, samsungClose, skhynixClose], axis=1)\n",
    "# df_corr = pd.concat([sp500Close, appleClose, microsoftClose, samsungClose, skhynixClose], axis=0)\n",
    "df_corr.info()"
   ]
  },
  {
   "cell_type": "code",
   "execution_count": null,
   "metadata": {},
   "outputs": [],
   "source": [
    "df_corr.dropna(inplace=True)\n",
    "df_corr.info()"
   ]
  },
  {
   "cell_type": "code",
   "execution_count": null,
   "metadata": {},
   "outputs": [],
   "source": [
    "corrMatrix = df_corr.corr()"
   ]
  },
  {
   "cell_type": "code",
   "execution_count": null,
   "metadata": {},
   "outputs": [],
   "source": [
    "import seaborn as sns\n",
    "# sns.heatmap(corrMatrix)\n",
    "sns.heatmap(corrMatrix, fmt='.2f', annot=True, cbar=True, cmap='coolwarm')\n",
    "plt.show()"
   ]
  },
  {
   "cell_type": "code",
   "execution_count": null,
   "metadata": {},
   "outputs": [],
   "source": []
  }
 ],
 "metadata": {
  "kernelspec": {
   "display_name": "Python 3",
   "language": "python",
   "name": "python3"
  },
  "language_info": {
   "codemirror_mode": {
    "name": "ipython",
    "version": 3
   },
   "file_extension": ".py",
   "mimetype": "text/x-python",
   "name": "python",
   "nbconvert_exporter": "python",
   "pygments_lexer": "ipython3",
   "version": "3.11.11"
  }
 },
 "nbformat": 4,
 "nbformat_minor": 2
}
