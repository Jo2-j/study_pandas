{
 "cells": [
  {
   "cell_type": "markdown",
   "metadata": {},
   "source": [
    "### 변동성 돌파 전략\n",
    "- ETF 종목 많이 사용\n",
    "- 변동폭 = 전일 고가 - 전일 저가 - > 목표가 = 당일 시가 + (변동폭 * K)"
   ]
  },
  {
   "cell_type": "code",
   "execution_count": 25,
   "metadata": {},
   "outputs": [],
   "source": [
    "from pykrx import stock"
   ]
  },
  {
   "cell_type": "code",
   "execution_count": null,
   "metadata": {},
   "outputs": [],
   "source": [
    "df_kosdaq_150 = stock.get_market_ohlcv_by_date(\"20100101\", \"20231231\", \"229200\")\n",
    "df_kosdaq_150"
   ]
  },
  {
   "cell_type": "code",
   "execution_count": null,
   "metadata": {},
   "outputs": [],
   "source": [
    "df_kosdaq_150['변동폭'] = df_kosdaq_150['고가'] - df_kosdaq_150['저가']\n",
    "df_kosdaq_150.columns"
   ]
  },
  {
   "cell_type": "code",
   "execution_count": 28,
   "metadata": {},
   "outputs": [],
   "source": [
    "df_kosdaq_150['전일 변동폭'] = df_kosdaq_150['변동폭'].shift(periods=1)"
   ]
  },
  {
   "cell_type": "code",
   "execution_count": null,
   "metadata": {},
   "outputs": [],
   "source": [
    "df_kosdaq_150['목표가'] = df_kosdaq_150['시가'] + (df_kosdaq_150['전일 변동폭'] * 0.5)\n",
    "df_kosdaq_150.head(10)\n"
   ]
  },
  {
   "cell_type": "code",
   "execution_count": null,
   "metadata": {},
   "outputs": [],
   "source": [
    "df_kosdaq_150['종가'] / df_kosdaq_150['목표가']"
   ]
  },
  {
   "cell_type": "code",
   "execution_count": 31,
   "metadata": {},
   "outputs": [],
   "source": [
    "sellConditions = df_kosdaq_150['고가'] >= df_kosdaq_150['목표가'] # 매도 조건\n",
    "\n"
   ]
  },
  {
   "cell_type": "code",
   "execution_count": null,
   "metadata": {},
   "outputs": [],
   "source": [
    "import numpy as np\n",
    "df_kosdaq_150['수익률'] = np.where(sellConditions, df_kosdaq_150['종가'] / df_kosdaq_150['목표가'] , 1)\n",
    "df_kosdaq_150.head()"
   ]
  },
  {
   "cell_type": "code",
   "execution_count": null,
   "metadata": {},
   "outputs": [],
   "source": [
    "df_kosdaq_150['누적수익률'] = df_kosdaq_150['수익률'].cumprod()\n",
    "df_kosdaq_150.tail()"
   ]
  },
  {
   "cell_type": "markdown",
   "metadata": {},
   "source": [
    "#### 누적 수익률 이용한 CAGR"
   ]
  },
  {
   "cell_type": "code",
   "execution_count": null,
   "metadata": {},
   "outputs": [],
   "source": [
    "delta_days = df_kosdaq_150.index[-1] - df_kosdaq_150.index[0]\n",
    "delta_days.days"
   ]
  },
  {
   "cell_type": "code",
   "execution_count": 35,
   "metadata": {},
   "outputs": [],
   "source": [
    "year = delta_days.days / 365"
   ]
  },
  {
   "cell_type": "markdown",
   "metadata": {},
   "source": [
    "전략 적용 vs 단순 보유"
   ]
  },
  {
   "cell_type": "code",
   "execution_count": 36,
   "metadata": {},
   "outputs": [],
   "source": [
    "import matplotlib.pyplot as plt\n"
   ]
  },
  {
   "cell_type": "code",
   "execution_count": null,
   "metadata": {},
   "outputs": [],
   "source": [
    "plt.figure(figsize=(10, 6))\n",
    "\n",
    "# 변동성 돌파 전략\n",
    "plt.plot(df_kosdaq_150['누적수익률'], label='Strategy')\n",
    "\n",
    "# 단순 보유\n",
    "plt.plot(df_kosdaq_150['종가'] / df_kosdaq_150['종가'].iloc[0], label='Hold')\n",
    "\n",
    "\n",
    "plt.grid()\n",
    "plt.legend()\n",
    "plt.show()"
   ]
  },
  {
   "cell_type": "code",
   "execution_count": null,
   "metadata": {},
   "outputs": [],
   "source": []
  }
 ],
 "metadata": {
  "kernelspec": {
   "display_name": "Python 3",
   "language": "python",
   "name": "python3"
  },
  "language_info": {
   "codemirror_mode": {
    "name": "ipython",
    "version": 3
   },
   "file_extension": ".py",
   "mimetype": "text/x-python",
   "name": "python",
   "nbconvert_exporter": "python",
   "pygments_lexer": "ipython3",
   "version": "3.11.11"
  }
 },
 "nbformat": 4,
 "nbformat_minor": 2
}
