{
 "cells": [
  {
   "cell_type": "markdown",
   "metadata": {},
   "source": [
    "### 시장수익률\n",
    "- CAGR(Compound Annual Growth Rate)\n",
    "- 기간 + 물가 지수\n",
    "- 시장수익률 = 수익률 **(1/투자기간) - 1\n",
    "- 수익률 = (종가 - 시작가) / 시작가"
   ]
  },
  {
   "cell_type": "code",
   "execution_count": null,
   "metadata": {},
   "outputs": [],
   "source": [
    "import pandas as pd\n",
    "# API 사용\n",
    "import FinanceDataReader as fdr\n",
    "symbol_kospi = fdr.DataReader('KS11', '2021', '2022')\n",
    "symbol_kospi\n",
    "symbol_kospi.info()"
   ]
  },
  {
   "cell_type": "code",
   "execution_count": null,
   "metadata": {},
   "outputs": [],
   "source": [
    "symbol_kospi.index"
   ]
  },
  {
   "cell_type": "code",
   "execution_count": null,
   "metadata": {},
   "outputs": [],
   "source": [
    "symbol_kospi.iloc[0,3], symbol_kospi.iloc[-1,3] # 매수 가격, 매도 가격"
   ]
  },
  {
   "cell_type": "code",
   "execution_count": null,
   "metadata": {},
   "outputs": [],
   "source": [
    "# 수익률 = 매도 가격 - 매수 가격 / 매수 가격\n",
    "# symbol_kospi['rate'] = (symbol_kospi.iloc[-1,3] - symbol_kospi.iloc[0,3]) / symbol_kospi.iloc[0,3]\n",
    "rateOfReturn = symbol_kospi.iloc[-1,3] / symbol_kospi.iloc[0,3]\n",
    "rateOfReturn\n"
   ]
  },
  {
   "cell_type": "code",
   "execution_count": null,
   "metadata": {},
   "outputs": [],
   "source": [
    "# 시장 수익률\n",
    "diff_datetime = symbol_kospi.index[-1] - symbol_kospi.index[0] # 매도 날짜 - 매수 날짜\n",
    "diff_datetime, type(diff_datetime)\n",
    "# diff_datetimedelta = diff_datetimedelta.days\n",
    "# marketRateOfReturn = rateOfReturn ** (1/diff_datetimedelta) - 1\n",
    "# marketRateOfReturn"
   ]
  },
  {
   "cell_type": "code",
   "execution_count": null,
   "metadata": {},
   "outputs": [],
   "source": [
    "diff_datetime.days"
   ]
  },
  {
   "cell_type": "code",
   "execution_count": null,
   "metadata": {},
   "outputs": [],
   "source": [
    "# 시장 수익률 (복리포함)\n",
    "carg = rateOfReturn ** (1/(diff_datetime.days/365)) - 1\n",
    "carg"
   ]
  },
  {
   "cell_type": "code",
   "execution_count": null,
   "metadata": {},
   "outputs": [],
   "source": []
  }
 ],
 "metadata": {
  "kernelspec": {
   "display_name": "Python 3",
   "language": "python",
   "name": "python3"
  },
  "language_info": {
   "codemirror_mode": {
    "name": "ipython",
    "version": 3
   },
   "file_extension": ".py",
   "mimetype": "text/x-python",
   "name": "python",
   "nbconvert_exporter": "python",
   "pygments_lexer": "ipython3",
   "version": "3.11.11"
  }
 },
 "nbformat": 4,
 "nbformat_minor": 2
}
