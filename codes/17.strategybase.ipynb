{
 "cells": [
  {
   "cell_type": "markdown",
   "metadata": {},
   "source": [
    "### 시장수익률\n",
    "- CAGR(Compound Annual Growth Rate)\n",
    "- 기간 + 물가 지수\n",
    "- 시장수익률 = 수익률 **(1/투자기간) - 1\n",
    "- 수익률 = (종가 - 시작가) / 시작가"
   ]
  },
  {
   "cell_type": "code",
   "execution_count": null,
   "metadata": {},
   "outputs": [],
   "source": [
    "import pandas as pd\n",
    "# API 사용\n",
    "import FinanceDataReader as fdr\n",
    "symbol_kospi = fdr.DataReader('KS11', '2021', '2022')\n",
    "symbol_kospi\n",
    "symbol_kospi.info()"
   ]
  },
  {
   "cell_type": "code",
   "execution_count": null,
   "metadata": {},
   "outputs": [],
   "source": [
    "symbol_kospi.index"
   ]
  },
  {
   "cell_type": "code",
   "execution_count": null,
   "metadata": {},
   "outputs": [],
   "source": [
    "symbol_kospi.iloc[0,3], symbol_kospi.iloc[-1,3] # 매수 가격, 매도 가격"
   ]
  },
  {
   "cell_type": "code",
   "execution_count": null,
   "metadata": {},
   "outputs": [],
   "source": [
    "# 수익률 = 매도 가격 - 매수 가격 / 매수 가격\n",
    "# symbol_kospi['rate'] = (symbol_kospi.iloc[-1,3] - symbol_kospi.iloc[0,3]) / symbol_kospi.iloc[0,3]\n",
    "rateOfReturn = symbol_kospi.iloc[-1,3] / symbol_kospi.iloc[0,3]\n",
    "rateOfReturn\n"
   ]
  },
  {
   "cell_type": "code",
   "execution_count": null,
   "metadata": {},
   "outputs": [],
   "source": [
    "# 시장 수익률\n",
    "diff_datetime = symbol_kospi.index[-1] - symbol_kospi.index[0] # 매도 날짜 - 매수 날짜\n",
    "diff_datetime, type(diff_datetime)\n",
    "# diff_datetimedelta = diff_datetimedelta.days\n",
    "# marketRateOfReturn = rateOfReturn ** (1/diff_datetimedelta) - 1\n",
    "# marketRateOfReturn"
   ]
  },
  {
   "cell_type": "code",
   "execution_count": null,
   "metadata": {},
   "outputs": [],
   "source": [
    "diff_datetime.days"
   ]
  },
  {
   "cell_type": "code",
   "execution_count": null,
   "metadata": {},
   "outputs": [],
   "source": [
    "# 시장 수익률 (복리포함)\n",
    "carg = rateOfReturn ** (1/(diff_datetime.days/365)) - 1\n",
    "carg"
   ]
  },
  {
   "cell_type": "markdown",
   "metadata": {},
   "source": [
    "### 숫자만큼 분류"
   ]
  },
  {
   "cell_type": "code",
   "execution_count": 19,
   "metadata": {},
   "outputs": [],
   "source": [
    "# 예제 데이터: 나이 리스트 \n",
    "ages = [5, 12, 17, 18, 24, 35, 45, 64, 75]\n",
    "\n",
    "# 나이를 구간으로 나누기 \n",
    "\n",
    "bins = [0, 12, 19, 35, 60, 100] # 구간 정의 \n",
    "labels = ['어린이', '청소년', '청년', '중장년', '노년'] # 각 구간에 붙일 라벨\n"
   ]
  },
  {
   "cell_type": "code",
   "execution_count": null,
   "metadata": {},
   "outputs": [],
   "source": [
    "ageGroup = pd.cut(ages, bins, labels=labels)\n",
    "age"
   ]
  },
  {
   "cell_type": "code",
   "execution_count": 22,
   "metadata": {},
   "outputs": [
    {
     "data": {
      "text/html": [
       "<div>\n",
       "<style scoped>\n",
       "    .dataframe tbody tr th:only-of-type {\n",
       "        vertical-align: middle;\n",
       "    }\n",
       "\n",
       "    .dataframe tbody tr th {\n",
       "        vertical-align: top;\n",
       "    }\n",
       "\n",
       "    .dataframe thead th {\n",
       "        text-align: right;\n",
       "    }\n",
       "</style>\n",
       "<table border=\"1\" class=\"dataframe\">\n",
       "  <thead>\n",
       "    <tr style=\"text-align: right;\">\n",
       "      <th></th>\n",
       "      <th>나이</th>\n",
       "      <th>연령대</th>\n",
       "    </tr>\n",
       "  </thead>\n",
       "  <tbody>\n",
       "    <tr>\n",
       "      <th>0</th>\n",
       "      <td>5</td>\n",
       "      <td>어린이</td>\n",
       "    </tr>\n",
       "    <tr>\n",
       "      <th>1</th>\n",
       "      <td>12</td>\n",
       "      <td>어린이</td>\n",
       "    </tr>\n",
       "    <tr>\n",
       "      <th>2</th>\n",
       "      <td>17</td>\n",
       "      <td>청소년</td>\n",
       "    </tr>\n",
       "    <tr>\n",
       "      <th>3</th>\n",
       "      <td>18</td>\n",
       "      <td>청소년</td>\n",
       "    </tr>\n",
       "    <tr>\n",
       "      <th>4</th>\n",
       "      <td>24</td>\n",
       "      <td>청년</td>\n",
       "    </tr>\n",
       "    <tr>\n",
       "      <th>5</th>\n",
       "      <td>35</td>\n",
       "      <td>청년</td>\n",
       "    </tr>\n",
       "    <tr>\n",
       "      <th>6</th>\n",
       "      <td>45</td>\n",
       "      <td>중장년</td>\n",
       "    </tr>\n",
       "    <tr>\n",
       "      <th>7</th>\n",
       "      <td>64</td>\n",
       "      <td>노년</td>\n",
       "    </tr>\n",
       "    <tr>\n",
       "      <th>8</th>\n",
       "      <td>75</td>\n",
       "      <td>노년</td>\n",
       "    </tr>\n",
       "  </tbody>\n",
       "</table>\n",
       "</div>"
      ],
      "text/plain": [
       "   나이  연령대\n",
       "0   5  어린이\n",
       "1  12  어린이\n",
       "2  17  청소년\n",
       "3  18  청소년\n",
       "4  24   청년\n",
       "5  35   청년\n",
       "6  45  중장년\n",
       "7  64   노년\n",
       "8  75   노년"
      ]
     },
     "execution_count": 22,
     "metadata": {},
     "output_type": "execute_result"
    }
   ],
   "source": [
    "data = {'나이':ages, '연령대':ageGroup}\n",
    "pd.DataFrame(data)"
   ]
  },
  {
   "cell_type": "markdown",
   "metadata": {},
   "source": [
    "### bins 숫자 입력"
   ]
  },
  {
   "cell_type": "code",
   "execution_count": 23,
   "metadata": {},
   "outputs": [
    {
     "data": {
      "text/plain": [
       "['어린이', '어린이', '청소년', '청소년', '청년', '청년', '중장년', '노년', '노년']\n",
       "Categories (5, object): ['어린이' < '청소년' < '청년' < '중장년' < '노년']"
      ]
     },
     "execution_count": 23,
     "metadata": {},
     "output_type": "execute_result"
    }
   ],
   "source": [
    "bin = 3\n",
    "labels = ['어린이', '청소년', '청년', '중장년', '노년'] # 각 구간에 붙일 라벨\n",
    "pd.cut(ages, bins, labels=labels)\n"
   ]
  },
  {
   "cell_type": "code",
   "execution_count": null,
   "metadata": {},
   "outputs": [],
   "source": []
  }
 ],
 "metadata": {
  "kernelspec": {
   "display_name": "Python 3",
   "language": "python",
   "name": "python3"
  },
  "language_info": {
   "codemirror_mode": {
    "name": "ipython",
    "version": 3
   },
   "file_extension": ".py",
   "mimetype": "text/x-python",
   "name": "python",
   "nbconvert_exporter": "python",
   "pygments_lexer": "ipython3",
   "version": "3.11.11"
  }
 },
 "nbformat": 4,
 "nbformat_minor": 2
}
