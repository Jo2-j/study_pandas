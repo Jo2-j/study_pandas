{
 "cells": [
  {
   "cell_type": "markdown",
   "metadata": {},
   "source": [
    "### PER + PBR 합성 전략\n",
    "- PBR < 1: 자산 대비 저평가\n",
    "- PER < 10: 수익 대비 저평가"
   ]
  },
  {
   "cell_type": "markdown",
   "metadata": {},
   "source": [
    "### 맞는 데이터 가져오고 merge 하기"
   ]
  },
  {
   "cell_type": "code",
   "execution_count": 51,
   "metadata": {},
   "outputs": [],
   "source": [
    "from pykrx import stock\n",
    "import pandas as pd\n",
    "import numpy as np"
   ]
  },
  {
   "cell_type": "code",
   "execution_count": null,
   "metadata": {},
   "outputs": [],
   "source": [
    "year = '2023'\n",
    "dfFirst = stock.get_market_cap_by_ticker(f'{year}0102')\n",
    "dfFirst = dfFirst[['종가','시가총액']].rename(columns={'종가':'시가'})\n",
    "dfFirst"
   ]
  },
  {
   "cell_type": "code",
   "execution_count": null,
   "metadata": {},
   "outputs": [],
   "source": [
    "dfFirst.describe()"
   ]
  },
  {
   "cell_type": "code",
   "execution_count": null,
   "metadata": {},
   "outputs": [],
   "source": [
    "dfFirst = dfFirst.sort_values('시가총액') # 범위 나누기 정렬\n",
    "dfFirst"
   ]
  },
  {
   "cell_type": "code",
   "execution_count": null,
   "metadata": {},
   "outputs": [],
   "source": [
    "dfFirst = pd.cut(dfFirst.reset_index(),bins=3,labels=['소형주','중형주','대형주'])\n"
   ]
  },
  {
   "cell_type": "markdown",
   "metadata": {},
   "source": [
    "### read PER + PBR from pykrx"
   ]
  },
  {
   "cell_type": "code",
   "execution_count": null,
   "metadata": {},
   "outputs": [],
   "source": [
    "dfSecond = stock.get_market_fundamental_by_ticker(f'{year}0102')\n",
    "# dfSecond = dfSecond[['PER','PBR']].rename(columns={'PER':'PER','PBR':'PBR'})\n",
    "dfSecond.head()"
   ]
  },
  {
   "cell_type": "markdown",
   "metadata": {},
   "source": [
    "### 해당 년도 마지막 거래 종가"
   ]
  },
  {
   "cell_type": "code",
   "execution_count": null,
   "metadata": {},
   "outputs": [],
   "source": [
    "dfSecond = stock.get_market_ohlcv_by_ticker(f'{year}1228')\n",
    "dfSecond"
   ]
  },
  {
   "cell_type": "markdown",
   "metadata": {},
   "source": [
    "### Merge"
   ]
  },
  {
   "cell_type": "code",
   "execution_count": null,
   "metadata": {},
   "outputs": [],
   "source": [
    "pd.concat([dfFirst,dfSecond],axis=1)\n",
    "dfConcat = pd.concat([dfFirst,dfSecond],axis=1)\n",
    "dfConcat"
   ]
  },
  {
   "cell_type": "code",
   "execution_count": 61,
   "metadata": {},
   "outputs": [
    {
     "data": {
      "text/html": [
       "<div>\n",
       "<style scoped>\n",
       "    .dataframe tbody tr th:only-of-type {\n",
       "        vertical-align: middle;\n",
       "    }\n",
       "\n",
       "    .dataframe tbody tr th {\n",
       "        vertical-align: top;\n",
       "    }\n",
       "\n",
       "    .dataframe thead th {\n",
       "        text-align: right;\n",
       "    }\n",
       "</style>\n",
       "<table border=\"1\" class=\"dataframe\">\n",
       "  <thead>\n",
       "    <tr style=\"text-align: right;\">\n",
       "      <th></th>\n",
       "      <th>시가</th>\n",
       "      <th>시가총액</th>\n",
       "      <th>시가</th>\n",
       "      <th>고가</th>\n",
       "      <th>저가</th>\n",
       "      <th>종가</th>\n",
       "      <th>거래량</th>\n",
       "      <th>거래대금</th>\n",
       "      <th>등락률</th>\n",
       "    </tr>\n",
       "    <tr>\n",
       "      <th>티커</th>\n",
       "      <th></th>\n",
       "      <th></th>\n",
       "      <th></th>\n",
       "      <th></th>\n",
       "      <th></th>\n",
       "      <th></th>\n",
       "      <th></th>\n",
       "      <th></th>\n",
       "      <th></th>\n",
       "    </tr>\n",
       "  </thead>\n",
       "  <tbody>\n",
       "    <tr>\n",
       "      <th>002787</th>\n",
       "      <td>12800.0</td>\n",
       "      <td>3.773542e+09</td>\n",
       "      <td>12700.0</td>\n",
       "      <td>12750.0</td>\n",
       "      <td>12480.0</td>\n",
       "      <td>12480.0</td>\n",
       "      <td>242.0</td>\n",
       "      <td>3.043000e+06</td>\n",
       "      <td>0.00</td>\n",
       "    </tr>\n",
       "    <tr>\n",
       "      <th>001527</th>\n",
       "      <td>12900.0</td>\n",
       "      <td>3.980540e+09</td>\n",
       "      <td>11400.0</td>\n",
       "      <td>12490.0</td>\n",
       "      <td>11370.0</td>\n",
       "      <td>12490.0</td>\n",
       "      <td>8502.0</td>\n",
       "      <td>9.718950e+07</td>\n",
       "      <td>8.99</td>\n",
       "    </tr>\n",
       "    <tr>\n",
       "      <th>001525</th>\n",
       "      <td>6530.0</td>\n",
       "      <td>4.033783e+09</td>\n",
       "      <td>6130.0</td>\n",
       "      <td>6130.0</td>\n",
       "      <td>6010.0</td>\n",
       "      <td>6010.0</td>\n",
       "      <td>630.0</td>\n",
       "      <td>3.786770e+06</td>\n",
       "      <td>0.17</td>\n",
       "    </tr>\n",
       "    <tr>\n",
       "      <th>002785</th>\n",
       "      <td>4850.0</td>\n",
       "      <td>4.157507e+09</td>\n",
       "      <td>4630.0</td>\n",
       "      <td>4670.0</td>\n",
       "      <td>4605.0</td>\n",
       "      <td>4670.0</td>\n",
       "      <td>116.0</td>\n",
       "      <td>5.411100e+05</td>\n",
       "      <td>0.00</td>\n",
       "    </tr>\n",
       "    <tr>\n",
       "      <th>000545</th>\n",
       "      <td>6140.0</td>\n",
       "      <td>4.715520e+09</td>\n",
       "      <td>5570.0</td>\n",
       "      <td>5800.0</td>\n",
       "      <td>5570.0</td>\n",
       "      <td>5650.0</td>\n",
       "      <td>9218.0</td>\n",
       "      <td>5.272993e+07</td>\n",
       "      <td>4.44</td>\n",
       "    </tr>\n",
       "    <tr>\n",
       "      <th>...</th>\n",
       "      <td>...</td>\n",
       "      <td>...</td>\n",
       "      <td>...</td>\n",
       "      <td>...</td>\n",
       "      <td>...</td>\n",
       "      <td>...</td>\n",
       "      <td>...</td>\n",
       "      <td>...</td>\n",
       "      <td>...</td>\n",
       "    </tr>\n",
       "    <tr>\n",
       "      <th>051910</th>\n",
       "      <td>604000.0</td>\n",
       "      <td>4.263778e+13</td>\n",
       "      <td>488000.0</td>\n",
       "      <td>499000.0</td>\n",
       "      <td>483500.0</td>\n",
       "      <td>499000.0</td>\n",
       "      <td>199695.0</td>\n",
       "      <td>9.831718e+10</td>\n",
       "      <td>2.67</td>\n",
       "    </tr>\n",
       "    <tr>\n",
       "      <th>000660</th>\n",
       "      <td>75700.0</td>\n",
       "      <td>5.510978e+13</td>\n",
       "      <td>140900.0</td>\n",
       "      <td>141600.0</td>\n",
       "      <td>139500.0</td>\n",
       "      <td>141500.0</td>\n",
       "      <td>2459473.0</td>\n",
       "      <td>3.463168e+11</td>\n",
       "      <td>0.78</td>\n",
       "    </tr>\n",
       "    <tr>\n",
       "      <th>207940</th>\n",
       "      <td>827000.0</td>\n",
       "      <td>5.886090e+13</td>\n",
       "      <td>729000.0</td>\n",
       "      <td>760000.0</td>\n",
       "      <td>727000.0</td>\n",
       "      <td>760000.0</td>\n",
       "      <td>132038.0</td>\n",
       "      <td>9.908199e+10</td>\n",
       "      <td>4.25</td>\n",
       "    </tr>\n",
       "    <tr>\n",
       "      <th>373220</th>\n",
       "      <td>446000.0</td>\n",
       "      <td>1.043640e+14</td>\n",
       "      <td>421500.0</td>\n",
       "      <td>427500.0</td>\n",
       "      <td>421000.0</td>\n",
       "      <td>427500.0</td>\n",
       "      <td>190673.0</td>\n",
       "      <td>8.092794e+10</td>\n",
       "      <td>1.54</td>\n",
       "    </tr>\n",
       "    <tr>\n",
       "      <th>005930</th>\n",
       "      <td>55500.0</td>\n",
       "      <td>3.313229e+14</td>\n",
       "      <td>77700.0</td>\n",
       "      <td>78500.0</td>\n",
       "      <td>77500.0</td>\n",
       "      <td>78500.0</td>\n",
       "      <td>17797536.0</td>\n",
       "      <td>1.388291e+12</td>\n",
       "      <td>0.64</td>\n",
       "    </tr>\n",
       "  </tbody>\n",
       "</table>\n",
       "<p>935 rows × 9 columns</p>\n",
       "</div>"
      ],
      "text/plain": [
       "              시가          시가총액        시가        고가        저가        종가  \\\n",
       "티커                                                                       \n",
       "002787   12800.0  3.773542e+09   12700.0   12750.0   12480.0   12480.0   \n",
       "001527   12900.0  3.980540e+09   11400.0   12490.0   11370.0   12490.0   \n",
       "001525    6530.0  4.033783e+09    6130.0    6130.0    6010.0    6010.0   \n",
       "002785    4850.0  4.157507e+09    4630.0    4670.0    4605.0    4670.0   \n",
       "000545    6140.0  4.715520e+09    5570.0    5800.0    5570.0    5650.0   \n",
       "...          ...           ...       ...       ...       ...       ...   \n",
       "051910  604000.0  4.263778e+13  488000.0  499000.0  483500.0  499000.0   \n",
       "000660   75700.0  5.510978e+13  140900.0  141600.0  139500.0  141500.0   \n",
       "207940  827000.0  5.886090e+13  729000.0  760000.0  727000.0  760000.0   \n",
       "373220  446000.0  1.043640e+14  421500.0  427500.0  421000.0  427500.0   \n",
       "005930   55500.0  3.313229e+14   77700.0   78500.0   77500.0   78500.0   \n",
       "\n",
       "               거래량          거래대금   등락률  \n",
       "티커                                      \n",
       "002787       242.0  3.043000e+06  0.00  \n",
       "001527      8502.0  9.718950e+07  8.99  \n",
       "001525       630.0  3.786770e+06  0.17  \n",
       "002785       116.0  5.411100e+05  0.00  \n",
       "000545      9218.0  5.272993e+07  4.44  \n",
       "...            ...           ...   ...  \n",
       "051910    199695.0  9.831718e+10  2.67  \n",
       "000660   2459473.0  3.463168e+11  0.78  \n",
       "207940    132038.0  9.908199e+10  4.25  \n",
       "373220    190673.0  8.092794e+10  1.54  \n",
       "005930  17797536.0  1.388291e+12  0.64  \n",
       "\n",
       "[935 rows x 9 columns]"
      ]
     },
     "execution_count": 61,
     "metadata": {},
     "output_type": "execute_result"
    }
   ],
   "source": [
    "dfConcatDropna = dfConcat.dropna()\n",
    "dfConcatDropna"
   ]
  },
  {
   "cell_type": "code",
   "execution_count": null,
   "metadata": {},
   "outputs": [],
   "source": [
    "# dfConcatDropna['수익률']= dfConcatDropna['종가'] / dfConcatDropna['시가']\n",
    "# dfConcatDropna\n",
    "\n",
    "conditions = (dfConcatDropna['PER'] < 1) & (dfConcatDropna['PBR'] < 1) # 저 PBR, 저 PER\n",
    "dfConcatDropna[conditions]"
   ]
  }
 ],
 "metadata": {
  "kernelspec": {
   "display_name": "Python 3",
   "language": "python",
   "name": "python3"
  },
  "language_info": {
   "codemirror_mode": {
    "name": "ipython",
    "version": 3
   },
   "file_extension": ".py",
   "mimetype": "text/x-python",
   "name": "python",
   "nbconvert_exporter": "python",
   "pygments_lexer": "ipython3",
   "version": "3.11.11"
  }
 },
 "nbformat": 4,
 "nbformat_minor": 2
}
