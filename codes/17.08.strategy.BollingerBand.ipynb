{
 "cells": [
  {
   "cell_type": "markdown",
   "metadata": {},
   "source": [
    "### 볼린저 밴드\n",
    "- 이동 평균 기준으로 상단과 하단 밴드 활용 \n",
    "- BBands = 중심선 +(-) K * 표준편차 \n",
    "- 매매 시점 : 상단 돌파 ; 과매수 상태, 하단 돌파 ; 과매도 상태"
   ]
  },
  {
   "cell_type": "code",
   "execution_count": 1,
   "metadata": {},
   "outputs": [],
   "source": [
    "import numpy as np\n",
    "import pandas as pd\n",
    "import matplotlib.pyplot as plt\n",
    "\n",
    "from pykrx import stock\n"
   ]
  },
  {
   "cell_type": "code",
   "execution_count": null,
   "metadata": {},
   "outputs": [],
   "source": [
    "df_stock = stock.get_market_ohlcv_by_date('20000101','20191231','035420') # Naver\n",
    "df_stock_close = df_stock[['종가']]\n",
    "df_stock_close.head() "
   ]
  },
  {
   "cell_type": "markdown",
   "metadata": {},
   "source": [
    "### 필요 컬럼\n",
    "- 이동 평균(14), 상단과 하단 표준 편차"
   ]
  },
  {
   "cell_type": "code",
   "execution_count": null,
   "metadata": {},
   "outputs": [],
   "source": [
    "df_stock_close['20일 중심선'] = df_stock_close['종가'].rolling(window=14).mean()\n",
    "df_stock_close[19:25].head()"
   ]
  },
  {
   "cell_type": "code",
   "execution_count": null,
   "metadata": {},
   "outputs": [],
   "source": [
    "std_deviation = df_stock_close['종가'].rolling(window=14).std()\n",
    "df_stock_close['상단선'] = df_stock_close['20일 중심선'] + 2 * std_deviation\n",
    "df_stock_close['하단선'] = df_stock_close['20일 중심선'] - 2 * std_deviation\n",
    "df_stock_close[19:25].head()"
   ]
  },
  {
   "cell_type": "markdown",
   "metadata": {},
   "source": [
    "### Charts 작성"
   ]
  },
  {
   "cell_type": "code",
   "execution_count": null,
   "metadata": {},
   "outputs": [],
   "source": [
    "import matplotlib.pyplot as plt\n",
    "plt.figure(figsize=(14,10))\n",
    "\n",
    "plt.plot(df_stock_close['20일 중심선'][20:100], label='Naver 20일 중심선')\n",
    "\n",
    "plt.plot(df_stock_close['상단선'][20:100], label='Naver 20일 상단선')\n",
    "\n",
    "plt.plot(df_stock_close['하단선'][20:100], label='Naver 20일 하단선')\n",
    "\n",
    "plt.tight_layout()\n",
    "plt.legend()\n",
    "plt.show()"
   ]
  }
 ],
 "metadata": {
  "kernelspec": {
   "display_name": "Python 3",
   "language": "python",
   "name": "python3"
  },
  "language_info": {
   "codemirror_mode": {
    "name": "ipython",
    "version": 3
   },
   "file_extension": ".py",
   "mimetype": "text/x-python",
   "name": "python",
   "nbconvert_exporter": "python",
   "pygments_lexer": "ipython3",
   "version": "3.11.11"
  }
 },
 "nbformat": 4,
 "nbformat_minor": 2
}
