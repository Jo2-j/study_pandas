{
 "cells": [
  {
   "cell_type": "markdown",
   "metadata": {},
   "source": [
    "### 샤프 지수(Sharpe Ratio) 이용한 포트폴리오 최적화\n",
    "- 위험 대비 성과 측정 지표\n",
    "- Sharpe = (포트폴리오 평균 수익률 - 무위험 이자율) / 포트폴리오 수익률 표준편차\n"
   ]
  },
  {
   "cell_type": "code",
   "execution_count": 43,
   "metadata": {},
   "outputs": [],
   "source": [
    "import numpy as np\n",
    "import pandas as pd\n",
    "import matplotlib.pyplot as plt\n",
    "\n",
    "from pykrx import stock\n"
   ]
  },
  {
   "cell_type": "markdown",
   "metadata": {},
   "source": [
    "### 개별 종목 머지"
   ]
  },
  {
   "cell_type": "code",
   "execution_count": 44,
   "metadata": {},
   "outputs": [],
   "source": [
    "start_date = '20200101'\n",
    "end_date = '20211231'\n",
    "symbols = ['035420', '196170', '042700', '005930'] # Naver, 알테오젠, 한미반도체, 삼전"
   ]
  },
  {
   "cell_type": "code",
   "execution_count": 45,
   "metadata": {},
   "outputs": [
    {
     "data": {
      "text/html": [
       "<div>\n",
       "<style scoped>\n",
       "    .dataframe tbody tr th:only-of-type {\n",
       "        vertical-align: middle;\n",
       "    }\n",
       "\n",
       "    .dataframe tbody tr th {\n",
       "        vertical-align: top;\n",
       "    }\n",
       "\n",
       "    .dataframe thead th {\n",
       "        text-align: right;\n",
       "    }\n",
       "</style>\n",
       "<table border=\"1\" class=\"dataframe\">\n",
       "  <thead>\n",
       "    <tr style=\"text-align: right;\">\n",
       "      <th></th>\n",
       "      <th>035420</th>\n",
       "      <th>196170</th>\n",
       "      <th>042700</th>\n",
       "      <th>005930</th>\n",
       "    </tr>\n",
       "    <tr>\n",
       "      <th>날짜</th>\n",
       "      <th></th>\n",
       "      <th></th>\n",
       "      <th></th>\n",
       "      <th></th>\n",
       "    </tr>\n",
       "  </thead>\n",
       "  <tbody>\n",
       "    <tr>\n",
       "      <th>2020-01-02</th>\n",
       "      <td>182500</td>\n",
       "      <td>19413</td>\n",
       "      <td>3980</td>\n",
       "      <td>55200</td>\n",
       "    </tr>\n",
       "    <tr>\n",
       "      <th>2020-01-03</th>\n",
       "      <td>181500</td>\n",
       "      <td>18746</td>\n",
       "      <td>3985</td>\n",
       "      <td>55500</td>\n",
       "    </tr>\n",
       "    <tr>\n",
       "      <th>2020-01-06</th>\n",
       "      <td>180500</td>\n",
       "      <td>17494</td>\n",
       "      <td>3920</td>\n",
       "      <td>55500</td>\n",
       "    </tr>\n",
       "    <tr>\n",
       "      <th>2020-01-07</th>\n",
       "      <td>187000</td>\n",
       "      <td>17995</td>\n",
       "      <td>3925</td>\n",
       "      <td>55800</td>\n",
       "    </tr>\n",
       "    <tr>\n",
       "      <th>2020-01-08</th>\n",
       "      <td>183000</td>\n",
       "      <td>16883</td>\n",
       "      <td>3925</td>\n",
       "      <td>56800</td>\n",
       "    </tr>\n",
       "    <tr>\n",
       "      <th>...</th>\n",
       "      <td>...</td>\n",
       "      <td>...</td>\n",
       "      <td>...</td>\n",
       "      <td>...</td>\n",
       "    </tr>\n",
       "    <tr>\n",
       "      <th>2021-12-24</th>\n",
       "      <td>384000</td>\n",
       "      <td>58389</td>\n",
       "      <td>18050</td>\n",
       "      <td>80500</td>\n",
       "    </tr>\n",
       "    <tr>\n",
       "      <th>2021-12-27</th>\n",
       "      <td>380500</td>\n",
       "      <td>59807</td>\n",
       "      <td>18300</td>\n",
       "      <td>80200</td>\n",
       "    </tr>\n",
       "    <tr>\n",
       "      <th>2021-12-28</th>\n",
       "      <td>384500</td>\n",
       "      <td>62809</td>\n",
       "      <td>18425</td>\n",
       "      <td>80300</td>\n",
       "    </tr>\n",
       "    <tr>\n",
       "      <th>2021-12-29</th>\n",
       "      <td>382000</td>\n",
       "      <td>62976</td>\n",
       "      <td>18500</td>\n",
       "      <td>78800</td>\n",
       "    </tr>\n",
       "    <tr>\n",
       "      <th>2021-12-30</th>\n",
       "      <td>378500</td>\n",
       "      <td>63143</td>\n",
       "      <td>18925</td>\n",
       "      <td>78300</td>\n",
       "    </tr>\n",
       "  </tbody>\n",
       "</table>\n",
       "<p>496 rows × 4 columns</p>\n",
       "</div>"
      ],
      "text/plain": [
       "            035420  196170  042700  005930\n",
       "날짜                                        \n",
       "2020-01-02  182500   19413    3980   55200\n",
       "2020-01-03  181500   18746    3985   55500\n",
       "2020-01-06  180500   17494    3920   55500\n",
       "2020-01-07  187000   17995    3925   55800\n",
       "2020-01-08  183000   16883    3925   56800\n",
       "...            ...     ...     ...     ...\n",
       "2021-12-24  384000   58389   18050   80500\n",
       "2021-12-27  380500   59807   18300   80200\n",
       "2021-12-28  384500   62809   18425   80300\n",
       "2021-12-29  382000   62976   18500   78800\n",
       "2021-12-30  378500   63143   18925   78300\n",
       "\n",
       "[496 rows x 4 columns]"
      ]
     },
     "execution_count": 45,
     "metadata": {},
     "output_type": "execute_result"
    }
   ],
   "source": [
    "# dataFrame concat와 동일\n",
    "\n",
    "\n",
    "df_stock = pd.DataFrame()\n",
    "for symbol in symbols:\n",
    "    df_stock[symbol] = stock.get_market_ohlcv_by_date(start_date, end_date, symbol)['종가']\n",
    "df_stock"
   ]
  },
  {
   "cell_type": "code",
   "execution_count": 46,
   "metadata": {},
   "outputs": [
    {
     "data": {
      "text/html": [
       "<div>\n",
       "<style scoped>\n",
       "    .dataframe tbody tr th:only-of-type {\n",
       "        vertical-align: middle;\n",
       "    }\n",
       "\n",
       "    .dataframe tbody tr th {\n",
       "        vertical-align: top;\n",
       "    }\n",
       "\n",
       "    .dataframe thead th {\n",
       "        text-align: right;\n",
       "    }\n",
       "</style>\n",
       "<table border=\"1\" class=\"dataframe\">\n",
       "  <thead>\n",
       "    <tr style=\"text-align: right;\">\n",
       "      <th></th>\n",
       "      <th>035420</th>\n",
       "      <th>196170</th>\n",
       "      <th>042700</th>\n",
       "      <th>005930</th>\n",
       "    </tr>\n",
       "    <tr>\n",
       "      <th>날짜</th>\n",
       "      <th></th>\n",
       "      <th></th>\n",
       "      <th></th>\n",
       "      <th></th>\n",
       "    </tr>\n",
       "  </thead>\n",
       "  <tbody>\n",
       "    <tr>\n",
       "      <th>2020-01-02</th>\n",
       "      <td>NaN</td>\n",
       "      <td>NaN</td>\n",
       "      <td>NaN</td>\n",
       "      <td>NaN</td>\n",
       "    </tr>\n",
       "    <tr>\n",
       "      <th>2020-01-03</th>\n",
       "      <td>-0.005479</td>\n",
       "      <td>-0.034358</td>\n",
       "      <td>0.001256</td>\n",
       "      <td>0.005435</td>\n",
       "    </tr>\n",
       "    <tr>\n",
       "      <th>2020-01-06</th>\n",
       "      <td>-0.005510</td>\n",
       "      <td>-0.066788</td>\n",
       "      <td>-0.016311</td>\n",
       "      <td>0.000000</td>\n",
       "    </tr>\n",
       "    <tr>\n",
       "      <th>2020-01-07</th>\n",
       "      <td>0.036011</td>\n",
       "      <td>0.028638</td>\n",
       "      <td>0.001276</td>\n",
       "      <td>0.005405</td>\n",
       "    </tr>\n",
       "    <tr>\n",
       "      <th>2020-01-08</th>\n",
       "      <td>-0.021390</td>\n",
       "      <td>-0.061795</td>\n",
       "      <td>0.000000</td>\n",
       "      <td>0.017921</td>\n",
       "    </tr>\n",
       "    <tr>\n",
       "      <th>...</th>\n",
       "      <td>...</td>\n",
       "      <td>...</td>\n",
       "      <td>...</td>\n",
       "      <td>...</td>\n",
       "    </tr>\n",
       "    <tr>\n",
       "      <th>2021-12-24</th>\n",
       "      <td>0.015873</td>\n",
       "      <td>-0.014082</td>\n",
       "      <td>0.000000</td>\n",
       "      <td>0.007509</td>\n",
       "    </tr>\n",
       "    <tr>\n",
       "      <th>2021-12-27</th>\n",
       "      <td>-0.009115</td>\n",
       "      <td>0.024285</td>\n",
       "      <td>0.013850</td>\n",
       "      <td>-0.003727</td>\n",
       "    </tr>\n",
       "    <tr>\n",
       "      <th>2021-12-28</th>\n",
       "      <td>0.010512</td>\n",
       "      <td>0.050195</td>\n",
       "      <td>0.006831</td>\n",
       "      <td>0.001247</td>\n",
       "    </tr>\n",
       "    <tr>\n",
       "      <th>2021-12-29</th>\n",
       "      <td>-0.006502</td>\n",
       "      <td>0.002659</td>\n",
       "      <td>0.004071</td>\n",
       "      <td>-0.018680</td>\n",
       "    </tr>\n",
       "    <tr>\n",
       "      <th>2021-12-30</th>\n",
       "      <td>-0.009162</td>\n",
       "      <td>0.002652</td>\n",
       "      <td>0.022973</td>\n",
       "      <td>-0.006345</td>\n",
       "    </tr>\n",
       "  </tbody>\n",
       "</table>\n",
       "<p>496 rows × 4 columns</p>\n",
       "</div>"
      ],
      "text/plain": [
       "              035420    196170    042700    005930\n",
       "날짜                                                \n",
       "2020-01-02       NaN       NaN       NaN       NaN\n",
       "2020-01-03 -0.005479 -0.034358  0.001256  0.005435\n",
       "2020-01-06 -0.005510 -0.066788 -0.016311  0.000000\n",
       "2020-01-07  0.036011  0.028638  0.001276  0.005405\n",
       "2020-01-08 -0.021390 -0.061795  0.000000  0.017921\n",
       "...              ...       ...       ...       ...\n",
       "2021-12-24  0.015873 -0.014082  0.000000  0.007509\n",
       "2021-12-27 -0.009115  0.024285  0.013850 -0.003727\n",
       "2021-12-28  0.010512  0.050195  0.006831  0.001247\n",
       "2021-12-29 -0.006502  0.002659  0.004071 -0.018680\n",
       "2021-12-30 -0.009162  0.002652  0.022973 -0.006345\n",
       "\n",
       "[496 rows x 4 columns]"
      ]
     },
     "execution_count": 46,
     "metadata": {},
     "output_type": "execute_result"
    }
   ],
   "source": [
    "# 데일리 수익율\n",
    "daily_return = df_stock.pct_change(periods=1)\n",
    "daily_return"
   ]
  },
  {
   "cell_type": "code",
   "execution_count": 47,
   "metadata": {},
   "outputs": [
    {
     "data": {
      "text/plain": [
       "035420    0.437258\n",
       "196170    0.883705\n",
       "042700    0.946450\n",
       "005930    0.217409\n",
       "dtype: float64"
      ]
     },
     "execution_count": 47,
     "metadata": {},
     "output_type": "execute_result"
    }
   ],
   "source": [
    "# 리스크 정수 구하기 \n",
    "annual_return = daily_return.mean() * 252\n",
    "annual_return"
   ]
  },
  {
   "cell_type": "code",
   "execution_count": 48,
   "metadata": {},
   "outputs": [
    {
     "data": {
      "text/html": [
       "<div>\n",
       "<style scoped>\n",
       "    .dataframe tbody tr th:only-of-type {\n",
       "        vertical-align: middle;\n",
       "    }\n",
       "\n",
       "    .dataframe tbody tr th {\n",
       "        vertical-align: top;\n",
       "    }\n",
       "\n",
       "    .dataframe thead th {\n",
       "        text-align: right;\n",
       "    }\n",
       "</style>\n",
       "<table border=\"1\" class=\"dataframe\">\n",
       "  <thead>\n",
       "    <tr style=\"text-align: right;\">\n",
       "      <th></th>\n",
       "      <th>035420</th>\n",
       "      <th>196170</th>\n",
       "      <th>042700</th>\n",
       "      <th>005930</th>\n",
       "    </tr>\n",
       "  </thead>\n",
       "  <tbody>\n",
       "    <tr>\n",
       "      <th>035420</th>\n",
       "      <td>0.000526</td>\n",
       "      <td>0.000409</td>\n",
       "      <td>0.000260</td>\n",
       "      <td>0.000159</td>\n",
       "    </tr>\n",
       "    <tr>\n",
       "      <th>196170</th>\n",
       "      <td>0.000409</td>\n",
       "      <td>0.002319</td>\n",
       "      <td>0.000473</td>\n",
       "      <td>0.000185</td>\n",
       "    </tr>\n",
       "    <tr>\n",
       "      <th>042700</th>\n",
       "      <td>0.000260</td>\n",
       "      <td>0.000473</td>\n",
       "      <td>0.001220</td>\n",
       "      <td>0.000283</td>\n",
       "    </tr>\n",
       "    <tr>\n",
       "      <th>005930</th>\n",
       "      <td>0.000159</td>\n",
       "      <td>0.000185</td>\n",
       "      <td>0.000283</td>\n",
       "      <td>0.000315</td>\n",
       "    </tr>\n",
       "  </tbody>\n",
       "</table>\n",
       "</div>"
      ],
      "text/plain": [
       "          035420    196170    042700    005930\n",
       "035420  0.000526  0.000409  0.000260  0.000159\n",
       "196170  0.000409  0.002319  0.000473  0.000185\n",
       "042700  0.000260  0.000473  0.001220  0.000283\n",
       "005930  0.000159  0.000185  0.000283  0.000315"
      ]
     },
     "execution_count": 48,
     "metadata": {},
     "output_type": "execute_result"
    }
   ],
   "source": [
    "daily_cov = daily_return.cov()\n",
    "daily_cov"
   ]
  },
  {
   "cell_type": "code",
   "execution_count": 49,
   "metadata": {},
   "outputs": [
    {
     "data": {
      "text/html": [
       "<div>\n",
       "<style scoped>\n",
       "    .dataframe tbody tr th:only-of-type {\n",
       "        vertical-align: middle;\n",
       "    }\n",
       "\n",
       "    .dataframe tbody tr th {\n",
       "        vertical-align: top;\n",
       "    }\n",
       "\n",
       "    .dataframe thead th {\n",
       "        text-align: right;\n",
       "    }\n",
       "</style>\n",
       "<table border=\"1\" class=\"dataframe\">\n",
       "  <thead>\n",
       "    <tr style=\"text-align: right;\">\n",
       "      <th></th>\n",
       "      <th>035420</th>\n",
       "      <th>196170</th>\n",
       "      <th>042700</th>\n",
       "      <th>005930</th>\n",
       "    </tr>\n",
       "  </thead>\n",
       "  <tbody>\n",
       "    <tr>\n",
       "      <th>035420</th>\n",
       "      <td>0.132514</td>\n",
       "      <td>0.102990</td>\n",
       "      <td>0.065583</td>\n",
       "      <td>0.039966</td>\n",
       "    </tr>\n",
       "    <tr>\n",
       "      <th>196170</th>\n",
       "      <td>0.102990</td>\n",
       "      <td>0.584310</td>\n",
       "      <td>0.119117</td>\n",
       "      <td>0.046511</td>\n",
       "    </tr>\n",
       "    <tr>\n",
       "      <th>042700</th>\n",
       "      <td>0.065583</td>\n",
       "      <td>0.119117</td>\n",
       "      <td>0.307320</td>\n",
       "      <td>0.071432</td>\n",
       "    </tr>\n",
       "    <tr>\n",
       "      <th>005930</th>\n",
       "      <td>0.039966</td>\n",
       "      <td>0.046511</td>\n",
       "      <td>0.071432</td>\n",
       "      <td>0.079495</td>\n",
       "    </tr>\n",
       "  </tbody>\n",
       "</table>\n",
       "</div>"
      ],
      "text/plain": [
       "          035420    196170    042700    005930\n",
       "035420  0.132514  0.102990  0.065583  0.039966\n",
       "196170  0.102990  0.584310  0.119117  0.046511\n",
       "042700  0.065583  0.119117  0.307320  0.071432\n",
       "005930  0.039966  0.046511  0.071432  0.079495"
      ]
     },
     "execution_count": 49,
     "metadata": {},
     "output_type": "execute_result"
    }
   ],
   "source": [
    "# weight 비중\n",
    "\n",
    "annual_cov = daily_cov * 252\n",
    "annual_cov\n"
   ]
  },
  {
   "cell_type": "markdown",
   "metadata": {},
   "source": [
    "### 비율 생성과 정규화\n"
   ]
  },
  {
   "cell_type": "code",
   "execution_count": 50,
   "metadata": {},
   "outputs": [],
   "source": [
    "import numpy as np\n",
    "\n",
    "weights = np.random.random(len(symbols)) # 비율 랜덤생성기\n",
    "# weights, type(weights), weights.shape"
   ]
  },
  {
   "cell_type": "code",
   "execution_count": 51,
   "metadata": {},
   "outputs": [
    {
     "data": {
      "text/plain": [
       "(array([0.37259981, 0.10479503, 0.21863675, 0.30396841]), numpy.ndarray, 1.0)"
      ]
     },
     "execution_count": 51,
     "metadata": {},
     "output_type": "execute_result"
    }
   ],
   "source": [
    "weights = weights /  np.sum(weights)\n",
    "weights, type(weights), np.sum(weights)"
   ]
  },
  {
   "cell_type": "code",
   "execution_count": 52,
   "metadata": {},
   "outputs": [],
   "source": [
    "returnOfRate = np.dot(weights, annual_return)\n",
    "returnOfRate, type(returnOfRate)\n",
    "risk = np.sqrt(np.dot(weights.T, np.dot(annual_cov, weights)))"
   ]
  },
  {
   "cell_type": "code",
   "execution_count": 53,
   "metadata": {},
   "outputs": [
    {
     "data": {
      "text/plain": [
       "array([0.08665455, 0.13978801, 0.12582363, 0.05954691])"
      ]
     },
     "execution_count": 53,
     "metadata": {},
     "output_type": "execute_result"
    }
   ],
   "source": [
    "np.dot(annual_cov, weights)"
   ]
  },
  {
   "cell_type": "code",
   "execution_count": 54,
   "metadata": {},
   "outputs": [
    {
     "data": {
      "text/plain": [
       "0.09254660771159534"
      ]
     },
     "execution_count": 54,
     "metadata": {},
     "output_type": "execute_result"
    }
   ],
   "source": [
    "np.dot(weights.T, np.dot(annual_cov, weights))"
   ]
  },
  {
   "cell_type": "code",
   "execution_count": 55,
   "metadata": {},
   "outputs": [],
   "source": [
    "# 여러 포트폴리오 비율 적용\n",
    "\n",
    "portfolio_returnOfRate = list()\n",
    "portfolio_risks = list()\n",
    "portfolio_weights = list()\n",
    "sharpe_ratio = list()\n",
    "\n",
    "for number in range(200):\n",
    "\n",
    "    weights = np.random.random(len(symbols)) # 비율 랜덤생성기\n",
    "    weights = weights /  np.sum(weights)\n",
    "    returnOfRate = np.dot(weights, annual_return)\n",
    "    risk = np.sqrt(np.dot(weights.T, np.dot(annual_cov, weights)))\n",
    "\n",
    "\n",
    "    portfolio_weights.append(weights)\n",
    "    portfolio_returnOfRate.append(returnOfRate)\n",
    "    portfolio_risks.append(risk)\n",
    "    sharpe_ratio.append(returnOfRate / risk)"
   ]
  },
  {
   "cell_type": "code",
   "execution_count": 56,
   "metadata": {},
   "outputs": [
    {
     "data": {
      "text/html": [
       "<div>\n",
       "<style scoped>\n",
       "    .dataframe tbody tr th:only-of-type {\n",
       "        vertical-align: middle;\n",
       "    }\n",
       "\n",
       "    .dataframe tbody tr th {\n",
       "        vertical-align: top;\n",
       "    }\n",
       "\n",
       "    .dataframe thead th {\n",
       "        text-align: right;\n",
       "    }\n",
       "</style>\n",
       "<table border=\"1\" class=\"dataframe\">\n",
       "  <thead>\n",
       "    <tr style=\"text-align: right;\">\n",
       "      <th></th>\n",
       "      <th>ReturnOfRate</th>\n",
       "      <th>Risk</th>\n",
       "      <th>Sharpe</th>\n",
       "      <th>035420</th>\n",
       "      <th>196170</th>\n",
       "      <th>042700</th>\n",
       "      <th>005930</th>\n",
       "    </tr>\n",
       "  </thead>\n",
       "  <tbody>\n",
       "    <tr>\n",
       "      <th>0</th>\n",
       "      <td>0.615411</td>\n",
       "      <td>0.422894</td>\n",
       "      <td>1.455238</td>\n",
       "      <td>0.603021</td>\n",
       "      <td>0.370180</td>\n",
       "      <td>0.025758</td>\n",
       "      <td>0.001041</td>\n",
       "    </tr>\n",
       "    <tr>\n",
       "      <th>1</th>\n",
       "      <td>0.640760</td>\n",
       "      <td>0.392115</td>\n",
       "      <td>1.634113</td>\n",
       "      <td>0.184882</td>\n",
       "      <td>0.364788</td>\n",
       "      <td>0.191551</td>\n",
       "      <td>0.258779</td>\n",
       "    </tr>\n",
       "    <tr>\n",
       "      <th>2</th>\n",
       "      <td>0.826473</td>\n",
       "      <td>0.445702</td>\n",
       "      <td>1.854316</td>\n",
       "      <td>0.053893</td>\n",
       "      <td>0.239972</td>\n",
       "      <td>0.599861</td>\n",
       "      <td>0.106274</td>\n",
       "    </tr>\n",
       "  </tbody>\n",
       "</table>\n",
       "</div>"
      ],
      "text/plain": [
       "   ReturnOfRate      Risk    Sharpe    035420    196170    042700    005930\n",
       "0      0.615411  0.422894  1.455238  0.603021  0.370180  0.025758  0.001041\n",
       "1      0.640760  0.392115  1.634113  0.184882  0.364788  0.191551  0.258779\n",
       "2      0.826473  0.445702  1.854316  0.053893  0.239972  0.599861  0.106274"
      ]
     },
     "execution_count": 56,
     "metadata": {},
     "output_type": "execute_result"
    }
   ],
   "source": [
    "# Convert DataFrame : Return Of Rate, Risk, Weights\n",
    "portfolio = {\"ReturnOfRate\": portfolio_returnOfRate,\n",
    "            \"Risk\" : portfolio_risks\n",
    "            , 'Sharpe' : sharpe_ratio}\n",
    "\n",
    "for idx, symbol in enumerate(symbols):\n",
    "    portfolio[symbol] = [weight[idx] for weight in portfolio_weights]\n",
    "\n",
    "    pass\n",
    "\n",
    "df_portfolio = pd.DataFrame(portfolio)\n",
    "df_portfolio.head(3)"
   ]
  },
  {
   "cell_type": "code",
   "execution_count": 59,
   "metadata": {},
   "outputs": [
    {
     "data": {
      "text/plain": [
       "ReturnOfRate    0.808885\n",
       "Risk            0.425868\n",
       "Sharpe          1.899380\n",
       "035420          0.229552\n",
       "196170          0.219956\n",
       "042700          0.541058\n",
       "005930          0.009434\n",
       "Name: 38, dtype: float64"
      ]
     },
     "execution_count": 59,
     "metadata": {},
     "output_type": "execute_result"
    }
   ],
   "source": [
    "# df_portfolio['Sharpe'].max()\n",
    "max_index = df_portfolio['Sharpe'].idxmax()\n",
    "df_portfolio.iloc[max_index]"
   ]
  },
  {
   "cell_type": "code",
   "execution_count": 62,
   "metadata": {},
   "outputs": [],
   "source": [
    "# 위험도 감소\n",
    "df_portfolio['Risk'].min()\n",
    "idx_min_risk= df_portfolio.iloc[df_portfolio['Risk'].idxmin()]"
   ]
  },
  {
   "cell_type": "code",
   "execution_count": 63,
   "metadata": {},
   "outputs": [
    {
     "data": {
      "image/png": "[encoded data removed]",
      "text/plain": [
       "<Figure size 1600x800 with 1 Axes>"
      ]
     },
     "metadata": {},
     "output_type": "display_data"
    }
   ],
   "source": [
    "import matplotlib.pyplot as plt\n",
    "\n",
    "plt.figure(figsize=(16,8))\n",
    "plt.scatter(x=df_portfolio['Risk'], y=df_portfolio['ReturnOfRate'])\n",
    "plt.scatter(x=df_portfolio.iloc[max_index]['Risk'], y=df_portfolio.iloc[max_index]['ReturnOfRate'])\n",
    "plt.scatter(x=df_portfolio.iloc[idx_min_risk]['Risk'], y=df_portfolio.iloc[idx_min_risk]['ReturnOfRate'])\n",
    "plt.show()"
   ]
  },
  {
   "cell_type": "code",
   "execution_count": null,
   "metadata": {},
   "outputs": [],
   "source": []
  }
 ],
 "metadata": {
  "kernelspec": {
   "display_name": "Python 3",
   "language": "python",
   "name": "python3"
  },
  "language_info": {
   "codemirror_mode": {
    "name": "ipython",
    "version": 3
   },
   "file_extension": ".py",
   "mimetype": "text/x-python",
   "name": "python",
   "nbconvert_exporter": "python",
   "pygments_lexer": "ipython3",
   "version": "3.11.11"
  }
 },
 "nbformat": 4,
 "nbformat_minor": 2
}
